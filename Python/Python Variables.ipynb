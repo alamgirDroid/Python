{
 "cells": [
  {
   "cell_type": "markdown",
   "id": "3de567e2-e65c-480d-8e04-cb94fb6dd434",
   "metadata": {},
   "source": [
    "Variables\n",
    "\n",
    "*Variables are containers for storing data values"
   ]
  },
  {
   "cell_type": "code",
   "execution_count": 1,
   "id": "26a55699-9e4a-4168-aa65-9e703f4180b9",
   "metadata": {},
   "outputs": [
    {
     "name": "stdout",
     "output_type": "stream",
     "text": [
      "5\n",
      "Alamgir\n"
     ]
    }
   ],
   "source": [
    "#creating variables\n",
    "x = 5\n",
    "y = \"Alamgir\"\n",
    "print(x)\n",
    "print(y)"
   ]
  },
  {
   "cell_type": "markdown",
   "id": "3af4c072-7ede-4cc9-8ec6-e8569be15615",
   "metadata": {},
   "source": [
    "Casting\n",
    "\n",
    "*If you want to specify the data type of a variable, this can be done with casting."
   ]
  },
  {
   "cell_type": "code",
   "execution_count": 3,
   "id": "7aa207ea-cc67-4fe8-91b7-e727c914ed44",
   "metadata": {},
   "outputs": [
    {
     "name": "stdout",
     "output_type": "stream",
     "text": [
      "3\n",
      "3\n",
      "3.0\n"
     ]
    }
   ],
   "source": [
    "x = str(3)       # x will be '3'\n",
    "y = int(3)       # y will be 3\n",
    "z = float(3)     # z will be 3.0\n",
    "print(x)\n",
    "print(y)\n",
    "print(z)"
   ]
  },
  {
   "cell_type": "markdown",
   "id": "fc728292-0ebf-427b-b310-793ee5e6c54a",
   "metadata": {},
   "source": [
    "Get the type"
   ]
  },
  {
   "cell_type": "code",
   "execution_count": 4,
   "id": "901eb4af-1dd4-413a-83d6-f7b57b1b2d1d",
   "metadata": {},
   "outputs": [
    {
     "name": "stdout",
     "output_type": "stream",
     "text": [
      "<class 'int'>\n",
      "<class 'str'>\n"
     ]
    }
   ],
   "source": [
    "x = 5\n",
    "y = \"Alamgir\"\n",
    "print(type(x))\n",
    "print(type(y))"
   ]
  },
  {
   "cell_type": "markdown",
   "id": "1ae9e891-639f-43e9-8986-f2373d7957e5",
   "metadata": {},
   "source": [
    "Variable Names\n",
    "\n",
    "Rules for Python variables:\n",
    "*A variable name must start with a letter or the underscore character\n",
    "*A variable name cannot start with a number\n",
    "*A variable name can only contain alpha-numeric characters and underscores (A-z, 0-9, and _ )\n",
    "*Variable names are case-sensitive (age, Age and AGE are three different variables)\n",
    "*A variable name cannot be any of the Python keywords."
   ]
  },
  {
   "cell_type": "code",
   "execution_count": 7,
   "id": "fe58e2e0-f076-409f-b3f2-a53ec40acd5a",
   "metadata": {},
   "outputs": [
    {
     "name": "stdout",
     "output_type": "stream",
     "text": [
      "Alamgir\n",
      "Alamgir\n",
      "Alamgir\n",
      "Alamgir\n",
      "Alamgir\n",
      "Alamgir\n"
     ]
    }
   ],
   "source": [
    "#Legal variable names\n",
    "myvar = \"Alamgir\"\n",
    "my_var = \"Alamgir\"\n",
    "_my_var = \"Alamgir\"\n",
    "myVar = \"Alamgir\"\n",
    "MYVAR = \"Alamgir\"\n",
    "myvar2 = \"Alamgir\"\n",
    "\n",
    "print(myvar)\n",
    "print(my_var)\n",
    "print(_my_var)\n",
    "print(myVar)\n",
    "print(MYVAR)\n",
    "print(myvar2)"
   ]
  },
  {
   "cell_type": "code",
   "execution_count": 8,
   "id": "4caf52a0-42f8-4493-87bf-9dcbe4b287b5",
   "metadata": {},
   "outputs": [
    {
     "ename": "SyntaxError",
     "evalue": "invalid decimal literal (1374728705.py, line 2)",
     "output_type": "error",
     "traceback": [
      "  \u001b[36mCell\u001b[39m\u001b[36m \u001b[39m\u001b[32mIn[8]\u001b[39m\u001b[32m, line 2\u001b[39m\n\u001b[31m    \u001b[39m\u001b[31m2myvar = \"John\"\u001b[39m\n    ^\n\u001b[31mSyntaxError\u001b[39m\u001b[31m:\u001b[39m invalid decimal literal\n"
     ]
    }
   ],
   "source": [
    "#Illegal variable names\n",
    "2myvar = \"John\"\n",
    "my-var = \"John\"\n",
    "my var = \"John\"\n",
    "print(2myvar)\n",
    "print(my-var)\n",
    "print(my var)"
   ]
  },
  {
   "cell_type": "markdown",
   "id": "1617f929-d403-46f3-b7a7-8e380876f448",
   "metadata": {},
   "source": [
    "Camel Case"
   ]
  },
  {
   "cell_type": "code",
   "execution_count": 10,
   "id": "6d024882-6cb5-4761-a1c1-75dbb3975f98",
   "metadata": {},
   "outputs": [
    {
     "name": "stdout",
     "output_type": "stream",
     "text": [
      "Alamgir\n"
     ]
    }
   ],
   "source": [
    "#Each word, except the first, starts with a capital letter\n",
    "myVariableName = \"Alamgir\"\n",
    "print(myVariableName)"
   ]
  },
  {
   "cell_type": "markdown",
   "id": "8b58edc1-173e-446d-b899-a93eb94acf20",
   "metadata": {},
   "source": [
    "Pascal Case"
   ]
  },
  {
   "cell_type": "code",
   "execution_count": 11,
   "id": "4b2dc27b-bd99-4534-a3d1-5f6a8ae57c3d",
   "metadata": {},
   "outputs": [
    {
     "name": "stdout",
     "output_type": "stream",
     "text": [
      "Alamgir\n"
     ]
    }
   ],
   "source": [
    "#Each word starts with a capital letter\n",
    "MyVariableName = \"Alamgir\"\n",
    "print(MyVariableName)"
   ]
  },
  {
   "cell_type": "markdown",
   "id": "bf3c6b4b-237a-4600-a6e4-eae759c2bc81",
   "metadata": {},
   "source": [
    "Snake Case"
   ]
  },
  {
   "cell_type": "code",
   "execution_count": 1,
   "id": "ca6a6a70-34d1-486f-9ac7-afd990e32305",
   "metadata": {},
   "outputs": [
    {
     "name": "stdout",
     "output_type": "stream",
     "text": [
      "Alamgir\n"
     ]
    }
   ],
   "source": [
    "#Each word is separated by an underscore character\n",
    "my_variable_name = \"Alamgir\"\n",
    "print(my_variable_name)"
   ]
  },
  {
   "cell_type": "markdown",
   "id": "dd9967e4-3c5d-490e-b466-7ad0f5259a20",
   "metadata": {},
   "source": [
    "Snake Case"
   ]
  },
  {
   "cell_type": "code",
   "execution_count": 2,
   "id": "1353d0ba-7bd7-4282-bfd6-e675af740642",
   "metadata": {},
   "outputs": [
    {
     "name": "stdout",
     "output_type": "stream",
     "text": [
      "Alamgir\n"
     ]
    }
   ],
   "source": [
    "#Each word is separated by an underscore character\n",
    "my_variable_name = \"Alamgir\"\n",
    "print(my_variable_name)"
   ]
  },
  {
   "cell_type": "markdown",
   "id": "3bc2eaf1-ebb5-4050-b13b-f81cd5274326",
   "metadata": {},
   "source": [
    "Many Values to Multiple Variables"
   ]
  },
  {
   "cell_type": "code",
   "execution_count": 3,
   "id": "be901e40-ead1-4916-b354-3ab6e237e6a7",
   "metadata": {},
   "outputs": [
    {
     "name": "stdout",
     "output_type": "stream",
     "text": [
      "Orange\n",
      "Banana\n",
      "Cherry\n"
     ]
    }
   ],
   "source": [
    "x, y, z = \"Orange\", \"Banana\", \"Cherry\"\n",
    "print(x)\n",
    "print(y)\n",
    "print(z)"
   ]
  },
  {
   "cell_type": "markdown",
   "id": "66a3830f-5c3f-4675-b9b4-5851294e59ff",
   "metadata": {},
   "source": [
    "One Value to Multiple Variables"
   ]
  },
  {
   "cell_type": "code",
   "execution_count": 4,
   "id": "2c80f55d-7f9f-4047-84fd-86e47974a4f1",
   "metadata": {},
   "outputs": [
    {
     "name": "stdout",
     "output_type": "stream",
     "text": [
      "Banana\n",
      "Banana\n",
      "Banana\n"
     ]
    }
   ],
   "source": [
    "x = y = z = \"Banana\"\n",
    "print(x)\n",
    "print(y)\n",
    "print(z)"
   ]
  },
  {
   "cell_type": "markdown",
   "id": "f2977aaf-d3b1-42b4-bcbe-54e674fd9dd8",
   "metadata": {},
   "source": [
    "Unpack a Collection \n",
    "\n",
    "*If you have a collection of values in a list, tuple etc. Python allows you to extract the values into variables. This is called unpacking."
   ]
  },
  {
   "cell_type": "code",
   "execution_count": 6,
   "id": "4705e8be-640f-4876-a7fd-0e916d77bfdf",
   "metadata": {},
   "outputs": [
    {
     "name": "stdout",
     "output_type": "stream",
     "text": [
      "apple\n",
      "banana\n",
      "cherry\n"
     ]
    }
   ],
   "source": [
    "fruits = [\"apple\", \"banana\", \"cherry\"]\n",
    "x, y, z = fruits\n",
    "print(x)\n",
    "print(y)\n",
    "print(z)"
   ]
  },
  {
   "cell_type": "markdown",
   "id": "39e5f906-dea5-4118-a660-f25e03d924f2",
   "metadata": {},
   "source": [
    "Output Variables"
   ]
  },
  {
   "cell_type": "code",
   "execution_count": 7,
   "id": "dfcc72cf-129d-4e15-ab60-3b3217a04991",
   "metadata": {},
   "outputs": [
    {
     "name": "stdout",
     "output_type": "stream",
     "text": [
      "Python is awesome\n",
      "Pythonisawesome\n"
     ]
    }
   ],
   "source": [
    "x = \"Python\"\n",
    "y = \"is\"\n",
    "z = \"awesome\"\n",
    "\n",
    "print(x, y, z)\n",
    "print(x + y + z)"
   ]
  },
  {
   "cell_type": "markdown",
   "id": "4cd01699-0e8f-4539-ad03-33239b80d61d",
   "metadata": {},
   "source": [
    "Global Variables"
   ]
  },
  {
   "cell_type": "code",
   "execution_count": 8,
   "id": "c7164f45-7115-4c37-9838-5e5fcc99d7eb",
   "metadata": {},
   "outputs": [
    {
     "name": "stdout",
     "output_type": "stream",
     "text": [
      "Python is fantastic\n",
      "Python is awesome\n"
     ]
    }
   ],
   "source": [
    "x = \"awesome\"\n",
    "\n",
    "def myfunc():\n",
    "    x = \"fantastic\"\n",
    "    print(\"Python is \" + x )\n",
    "myfunc()\n",
    "print(\"Python is \" + x ) #Global variable"
   ]
  },
  {
   "cell_type": "code",
   "execution_count": null,
   "id": "b39f1d1e-e5d4-4ed5-822d-881211d882a5",
   "metadata": {},
   "outputs": [],
   "source": []
  }
 ],
 "metadata": {
  "kernelspec": {
   "display_name": "Python 3 (ipykernel)",
   "language": "python",
   "name": "python3"
  },
  "language_info": {
   "codemirror_mode": {
    "name": "ipython",
    "version": 3
   },
   "file_extension": ".py",
   "mimetype": "text/x-python",
   "name": "python",
   "nbconvert_exporter": "python",
   "pygments_lexer": "ipython3",
   "version": "3.13.3"
  },
  "widgets": {
   "application/vnd.jupyter.widget-state+json": {
    "state": {},
    "version_major": 2,
    "version_minor": 0
   }
  }
 },
 "nbformat": 4,
 "nbformat_minor": 5
}
