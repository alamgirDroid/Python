{
 "cells": [
  {
   "cell_type": "markdown",
   "id": "6cd001f6-5d38-4b36-a746-8d5ea8871128",
   "metadata": {},
   "source": [
    "Python Numbers\n",
    "\n",
    "There are three numeric types in Python:\n",
    "*int ( Integer)\n",
    "*float\n",
    "*complex\n"
   ]
  },
  {
   "cell_type": "markdown",
   "id": "b3b1aac7-432a-42a7-a704-a248c2ca99da",
   "metadata": {},
   "source": [
    "Int\n",
    "\n",
    "*Int, or integer, is a whole number, positive or negative, without decimals, of unlimited length."
   ]
  },
  {
   "cell_type": "code",
   "execution_count": 8,
   "id": "66e7f4fe-103d-4cec-a2c8-5a432468befb",
   "metadata": {},
   "outputs": [
    {
     "name": "stdout",
     "output_type": "stream",
     "text": [
      "<class 'int'>\n",
      "1\n",
      "35436\n",
      "-3256\n"
     ]
    },
    {
     "data": {
      "text/plain": [
       "int"
      ]
     },
     "execution_count": 8,
     "metadata": {},
     "output_type": "execute_result"
    }
   ],
   "source": [
    "x = 1\n",
    "y = 35436\n",
    "z = -3256\n",
    "print(type(x))\n",
    "print(x)\n",
    "print(y)\n",
    "print(z)\n",
    "type(x)\n",
    "type(y)\n",
    "type(z)"
   ]
  },
  {
   "cell_type": "markdown",
   "id": "1851dc7c-2e53-4994-9d57-9df2775c794a",
   "metadata": {},
   "source": [
    "Float\n",
    "\n",
    "*Float, or \"floating point number\" is a number, positive or negative, containing one or more decimals."
   ]
  },
  {
   "cell_type": "code",
   "execution_count": 7,
   "id": "5d7d6ae0-7fed-4157-999b-f84800aaf162",
   "metadata": {},
   "outputs": [
    {
     "name": "stdout",
     "output_type": "stream",
     "text": [
      "<class 'float'>\n",
      "1.1\n",
      "1.0\n",
      "-32.23\n"
     ]
    },
    {
     "data": {
      "text/plain": [
       "float"
      ]
     },
     "execution_count": 7,
     "metadata": {},
     "output_type": "execute_result"
    }
   ],
   "source": [
    "x = 1.10\n",
    "y = 1.0\n",
    "z = -32.23\n",
    "print(type(x))\n",
    "print(x)\n",
    "print(y)\n",
    "print(z)\n",
    "type(x)\n",
    "type(y)\n",
    "type(z)"
   ]
  },
  {
   "cell_type": "markdown",
   "id": "8ef87a03-36dc-4ae7-bd5a-06c6ac1709f9",
   "metadata": {},
   "source": [
    "Complex\n",
    "\n",
    "*Complex numbers are written with a \"j\" as the imaginary part"
   ]
  },
  {
   "cell_type": "code",
   "execution_count": 9,
   "id": "5bbb2edd-1803-44d3-8343-d72463dbcb9d",
   "metadata": {},
   "outputs": [
    {
     "name": "stdout",
     "output_type": "stream",
     "text": [
      "<class 'complex'>\n",
      "(3+5j)\n",
      "5j\n",
      "(-0-5j)\n"
     ]
    },
    {
     "data": {
      "text/plain": [
       "complex"
      ]
     },
     "execution_count": 9,
     "metadata": {},
     "output_type": "execute_result"
    }
   ],
   "source": [
    "x = 3+5j\n",
    "y = 5j\n",
    "z = -5j\n",
    "print(type(x))\n",
    "print(x)\n",
    "print(y)\n",
    "print(z)\n",
    "type(x)\n",
    "type(y)\n",
    "type(z)"
   ]
  },
  {
   "cell_type": "markdown",
   "id": "c9e59048-f70f-49f6-ad0a-eca95a6bdc71",
   "metadata": {},
   "source": [
    "Type Conversion\n",
    "\n",
    "*You can convert from one type to another with the int(), float(), and complex() methods\n",
    "NB: You cannot convert complex numbers into another number type"
   ]
  },
  {
   "cell_type": "code",
   "execution_count": 10,
   "id": "3f8d8b56-3a0f-44d4-bd5e-b4468ccd7623",
   "metadata": {},
   "outputs": [
    {
     "name": "stdout",
     "output_type": "stream",
     "text": [
      "2.0\n",
      "<class 'float'>\n",
      "3\n",
      "<class 'int'>\n",
      "(2+0j)\n",
      "<class 'complex'>\n"
     ]
    }
   ],
   "source": [
    "x = 2     #int\n",
    "y = 3.5   #float\n",
    "z = 5j    #complex\n",
    "\n",
    "#convert from int to float\n",
    "a = float(x)\n",
    "print(a)\n",
    "print(type(a))\n",
    "\n",
    "#convert from float to int\n",
    "b = int(y)\n",
    "print(b)\n",
    "print(type(b))\n",
    "\n",
    "#convert from int to complex\n",
    "c = complex(x)\n",
    "print(c)\n",
    "print(type(c))"
   ]
  },
  {
   "cell_type": "code",
   "execution_count": null,
   "id": "a99613a6-720d-427c-99c4-fca59d8aa313",
   "metadata": {},
   "outputs": [],
   "source": []
  }
 ],
 "metadata": {
  "kernelspec": {
   "display_name": "Python 3 (ipykernel)",
   "language": "python",
   "name": "python3"
  },
  "language_info": {
   "codemirror_mode": {
    "name": "ipython",
    "version": 3
   },
   "file_extension": ".py",
   "mimetype": "text/x-python",
   "name": "python",
   "nbconvert_exporter": "python",
   "pygments_lexer": "ipython3",
   "version": "3.13.3"
  },
  "widgets": {
   "application/vnd.jupyter.widget-state+json": {
    "state": {},
    "version_major": 2,
    "version_minor": 0
   }
  }
 },
 "nbformat": 4,
 "nbformat_minor": 5
}
