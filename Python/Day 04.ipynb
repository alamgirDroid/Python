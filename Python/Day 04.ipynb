{
 "cells": [
  {
   "cell_type": "markdown",
   "id": "feb358d0-ed6d-4aa5-b0e0-cd24b4c436e0",
   "metadata": {},
   "source": [
    "Data Types"
   ]
  },
  {
   "cell_type": "code",
   "execution_count": 7,
   "id": "338bbf80-3743-4d12-b861-6031ce6f8938",
   "metadata": {},
   "outputs": [],
   "source": [
    "#Numeric Data\n",
    "\n",
    "x = 10 #int\n",
    "y = 10.5 #float\n",
    "z = 10+5j #10 is a real number and 5j is a imaginery number"
   ]
  },
  {
   "cell_type": "code",
   "execution_count": 9,
   "id": "4e320847-77be-453c-ab16-74f68a8466e1",
   "metadata": {},
   "outputs": [
    {
     "data": {
      "text/plain": [
       "int"
      ]
     },
     "execution_count": 9,
     "metadata": {},
     "output_type": "execute_result"
    }
   ],
   "source": [
    "type(x)"
   ]
  },
  {
   "cell_type": "code",
   "execution_count": 11,
   "id": "fe7a613a-7c68-4c3f-b76e-cb58cb7201a7",
   "metadata": {},
   "outputs": [
    {
     "data": {
      "text/plain": [
       "float"
      ]
     },
     "execution_count": 11,
     "metadata": {},
     "output_type": "execute_result"
    }
   ],
   "source": [
    "type(y)"
   ]
  },
  {
   "cell_type": "code",
   "execution_count": 13,
   "id": "f6e81594-c0df-490c-93e5-04880c63da8c",
   "metadata": {},
   "outputs": [
    {
     "data": {
      "text/plain": [
       "complex"
      ]
     },
     "execution_count": 13,
     "metadata": {},
     "output_type": "execute_result"
    }
   ],
   "source": [
    "type(z)"
   ]
  },
  {
   "cell_type": "code",
   "execution_count": 15,
   "id": "b38ad6aa-fda2-425e-a306-e0ec6d6a4414",
   "metadata": {},
   "outputs": [
    {
     "data": {
      "text/plain": [
       "True"
      ]
     },
     "execution_count": 15,
     "metadata": {},
     "output_type": "execute_result"
    }
   ],
   "source": [
    "isinstance(z,complex)"
   ]
  },
  {
   "cell_type": "code",
   "execution_count": 17,
   "id": "5a9dcedb-d66f-4580-95a0-3d6fe826c0a8",
   "metadata": {},
   "outputs": [
    {
     "data": {
      "text/plain": [
       "False"
      ]
     },
     "execution_count": 17,
     "metadata": {},
     "output_type": "execute_result"
    }
   ],
   "source": [
    "isinstance(10,float)"
   ]
  },
  {
   "cell_type": "code",
   "execution_count": 19,
   "id": "0e2889b4-8cd6-451b-a973-6202f7037e8b",
   "metadata": {},
   "outputs": [
    {
     "data": {
      "text/plain": [
       "True"
      ]
     },
     "execution_count": 19,
     "metadata": {},
     "output_type": "execute_result"
    }
   ],
   "source": [
    "isinstance(10,int)"
   ]
  },
  {
   "cell_type": "code",
   "execution_count": 26,
   "id": "87e3a711-1a8a-499f-a566-4b76eb43af4a",
   "metadata": {},
   "outputs": [],
   "source": [
    "#int to float\n",
    "n = float(x) #n=float"
   ]
  },
  {
   "cell_type": "code",
   "execution_count": 28,
   "id": "e07bd523-f645-409b-8696-800756fb99b0",
   "metadata": {},
   "outputs": [
    {
     "data": {
      "text/plain": [
       "10.0"
      ]
     },
     "execution_count": 28,
     "metadata": {},
     "output_type": "execute_result"
    }
   ],
   "source": [
    "n"
   ]
  },
  {
   "cell_type": "code",
   "execution_count": 30,
   "id": "0ef66995-1b90-4905-826e-efc0495c54ab",
   "metadata": {},
   "outputs": [
    {
     "data": {
      "text/plain": [
       "float"
      ]
     },
     "execution_count": 30,
     "metadata": {},
     "output_type": "execute_result"
    }
   ],
   "source": [
    "type(n)"
   ]
  },
  {
   "cell_type": "code",
   "execution_count": 32,
   "id": "9f3d7a9a-9784-430d-9a89-4e3c2177d3a6",
   "metadata": {},
   "outputs": [
    {
     "data": {
      "text/plain": [
       "int"
      ]
     },
     "execution_count": 32,
     "metadata": {},
     "output_type": "execute_result"
    }
   ],
   "source": [
    "n = int(n)\n",
    "type(n)"
   ]
  },
  {
   "cell_type": "code",
   "execution_count": 34,
   "id": "add2548b-4232-4a0a-b957-bb20ee7e2925",
   "metadata": {},
   "outputs": [
    {
     "data": {
      "text/plain": [
       "10"
      ]
     },
     "execution_count": 34,
     "metadata": {},
     "output_type": "execute_result"
    }
   ],
   "source": [
    "n"
   ]
  },
  {
   "cell_type": "code",
   "execution_count": 36,
   "id": "e1e90bb4-3409-4942-9771-0f9fca576822",
   "metadata": {},
   "outputs": [],
   "source": [
    "#int to complex\n",
    "n = complex(n)"
   ]
  },
  {
   "cell_type": "code",
   "execution_count": 38,
   "id": "4b8f05a5-3b3e-49ed-9ca5-459eed9d7eb2",
   "metadata": {},
   "outputs": [
    {
     "data": {
      "text/plain": [
       "(10+0j)"
      ]
     },
     "execution_count": 38,
     "metadata": {},
     "output_type": "execute_result"
    }
   ],
   "source": [
    "n"
   ]
  },
  {
   "cell_type": "code",
   "execution_count": 40,
   "id": "1f697e71-b057-467a-801c-ccd1249f9604",
   "metadata": {},
   "outputs": [
    {
     "data": {
      "text/plain": [
       "complex"
      ]
     },
     "execution_count": 40,
     "metadata": {},
     "output_type": "execute_result"
    }
   ],
   "source": [
    "type(n)"
   ]
  },
  {
   "cell_type": "code",
   "execution_count": 42,
   "id": "488b8ace-3e7f-4301-b480-577b1184b92c",
   "metadata": {},
   "outputs": [],
   "source": [
    "# can not complex to int and float"
   ]
  },
  {
   "cell_type": "code",
   "execution_count": 44,
   "id": "da65453e-ce76-48fe-90a5-bb7e21d3588e",
   "metadata": {},
   "outputs": [
    {
     "name": "stdin",
     "output_type": "stream",
     "text": [
      "Enter your complex number: -  9\n"
     ]
    }
   ],
   "source": [
    "n = complex(input('Enter your complex number: - '))"
   ]
  },
  {
   "cell_type": "code",
   "execution_count": 46,
   "id": "05985040-174f-4cb1-8c4d-6006ca7fa37e",
   "metadata": {},
   "outputs": [
    {
     "data": {
      "text/plain": [
       "(9+0j)"
      ]
     },
     "execution_count": 46,
     "metadata": {},
     "output_type": "execute_result"
    }
   ],
   "source": [
    "n"
   ]
  },
  {
   "cell_type": "code",
   "execution_count": 48,
   "id": "29e123b1-4dc5-4912-b20a-78ce37c7eb55",
   "metadata": {},
   "outputs": [
    {
     "name": "stdin",
     "output_type": "stream",
     "text": [
      "Enter your complex number:_ 9+5j\n"
     ]
    }
   ],
   "source": [
    "n = complex(input(\"Enter your complex number:_\"))"
   ]
  },
  {
   "cell_type": "code",
   "execution_count": 50,
   "id": "666608f3-608a-47ae-889c-1358d08cb07b",
   "metadata": {},
   "outputs": [
    {
     "data": {
      "text/plain": [
       "(9+5j)"
      ]
     },
     "execution_count": 50,
     "metadata": {},
     "output_type": "execute_result"
    }
   ],
   "source": [
    "n"
   ]
  },
  {
   "cell_type": "code",
   "execution_count": 52,
   "id": "74f2d735-a53b-4c9b-8196-1e7c3cad5e34",
   "metadata": {},
   "outputs": [
    {
     "data": {
      "text/plain": [
       "complex"
      ]
     },
     "execution_count": 52,
     "metadata": {},
     "output_type": "execute_result"
    }
   ],
   "source": [
    "type(n)"
   ]
  },
  {
   "cell_type": "markdown",
   "id": "a0d7c4e4-1083-47b5-82b4-4bf192e34ad4",
   "metadata": {},
   "source": [
    "Boolean"
   ]
  },
  {
   "cell_type": "code",
   "execution_count": 57,
   "id": "96d8948e-ab27-4b3d-a3b6-e4485f8e620b",
   "metadata": {},
   "outputs": [],
   "source": [
    "x = True\n",
    "y = False"
   ]
  },
  {
   "cell_type": "code",
   "execution_count": 59,
   "id": "8ce32714-cef3-413e-a3b5-2380bfa76df8",
   "metadata": {},
   "outputs": [
    {
     "data": {
      "text/plain": [
       "True"
      ]
     },
     "execution_count": 59,
     "metadata": {},
     "output_type": "execute_result"
    }
   ],
   "source": [
    "x"
   ]
  },
  {
   "cell_type": "code",
   "execution_count": 61,
   "id": "b8952ef2-304d-4a86-ba2e-ceff563c2c11",
   "metadata": {},
   "outputs": [
    {
     "data": {
      "text/plain": [
       "False"
      ]
     },
     "execution_count": 61,
     "metadata": {},
     "output_type": "execute_result"
    }
   ],
   "source": [
    "y"
   ]
  },
  {
   "cell_type": "markdown",
   "id": "c4b78082-b2e2-4fef-9552-db02ecff8b57",
   "metadata": {},
   "source": [
    "Sequence Data"
   ]
  },
  {
   "cell_type": "code",
   "execution_count": 3,
   "id": "bb0a13ac-76a8-4112-81e5-dd65b7fae661",
   "metadata": {},
   "outputs": [],
   "source": [
    "#list []\n",
    "l = [1,2,3,4,True,[1,2],\"data\",(1,2,3)]"
   ]
  },
  {
   "cell_type": "code",
   "execution_count": 5,
   "id": "445e51a4-e9ac-4e8d-b752-3854ae8f152b",
   "metadata": {},
   "outputs": [
    {
     "data": {
      "text/plain": [
       "[1, 2, 3, 4, True, [1, 2], 'data', (1, 2, 3)]"
      ]
     },
     "execution_count": 5,
     "metadata": {},
     "output_type": "execute_result"
    }
   ],
   "source": [
    "l"
   ]
  },
  {
   "cell_type": "code",
   "execution_count": 7,
   "id": "e15a6671-a115-473f-98b7-97657a9f4ce2",
   "metadata": {},
   "outputs": [
    {
     "data": {
      "text/plain": [
       "1"
      ]
     },
     "execution_count": 7,
     "metadata": {},
     "output_type": "execute_result"
    }
   ],
   "source": [
    "l[0]"
   ]
  },
  {
   "cell_type": "code",
   "execution_count": 9,
   "id": "cad60532-964c-414b-986d-119c737be7ab",
   "metadata": {},
   "outputs": [
    {
     "data": {
      "text/plain": [
       "(1, 2, 3)"
      ]
     },
     "execution_count": 9,
     "metadata": {},
     "output_type": "execute_result"
    }
   ],
   "source": [
    "l[-1]"
   ]
  },
  {
   "cell_type": "code",
   "execution_count": 11,
   "id": "05ed3b82-ff3e-4abf-8840-af27106f1c67",
   "metadata": {},
   "outputs": [
    {
     "data": {
      "text/plain": [
       "1"
      ]
     },
     "execution_count": 11,
     "metadata": {},
     "output_type": "execute_result"
    }
   ],
   "source": [
    "l[-1][0]"
   ]
  },
  {
   "cell_type": "code",
   "execution_count": 13,
   "id": "a31ca7f2-bff7-48f5-bc29-18b853dc1085",
   "metadata": {},
   "outputs": [
    {
     "data": {
      "text/plain": [
       "list"
      ]
     },
     "execution_count": 13,
     "metadata": {},
     "output_type": "execute_result"
    }
   ],
   "source": [
    "type(l)"
   ]
  },
  {
   "cell_type": "code",
   "execution_count": 15,
   "id": "3964f2ca-2ae9-42b6-8156-13655c226e3c",
   "metadata": {},
   "outputs": [
    {
     "data": {
      "text/plain": [
       "True"
      ]
     },
     "execution_count": 15,
     "metadata": {},
     "output_type": "execute_result"
    }
   ],
   "source": [
    "isinstance(l,list)"
   ]
  },
  {
   "cell_type": "code",
   "execution_count": 17,
   "id": "85d65757-8fa9-4b83-a72d-64b791c2bdd9",
   "metadata": {},
   "outputs": [
    {
     "data": {
      "text/plain": [
       "tuple"
      ]
     },
     "execution_count": 17,
     "metadata": {},
     "output_type": "execute_result"
    }
   ],
   "source": [
    "#Tuple ()\n",
    "t = (1,2,3,4,\"Ai\")\n",
    "type(t)"
   ]
  },
  {
   "cell_type": "code",
   "execution_count": 19,
   "id": "3222a43e-72f7-43da-ac2d-35651349e536",
   "metadata": {},
   "outputs": [
    {
     "data": {
      "text/plain": [
       "(1, 2, 3, 4)"
      ]
     },
     "execution_count": 19,
     "metadata": {},
     "output_type": "execute_result"
    }
   ],
   "source": [
    "t[0:4] # colon means to ; to 4-1"
   ]
  },
  {
   "cell_type": "code",
   "execution_count": 21,
   "id": "1f065ec1-a880-43cf-955c-5427200a9b2b",
   "metadata": {},
   "outputs": [],
   "source": [
    "#Range ()\n",
    "x = range(10) #1st case"
   ]
  },
  {
   "cell_type": "code",
   "execution_count": 23,
   "id": "ce5b844f-d5d2-445e-9b72-614975d935d7",
   "metadata": {},
   "outputs": [
    {
     "data": {
      "text/plain": [
       "range(0, 10)"
      ]
     },
     "execution_count": 23,
     "metadata": {},
     "output_type": "execute_result"
    }
   ],
   "source": [
    "x"
   ]
  },
  {
   "cell_type": "code",
   "execution_count": 25,
   "id": "44b59038-817c-4c2f-9760-64c93c3790a3",
   "metadata": {},
   "outputs": [
    {
     "name": "stdout",
     "output_type": "stream",
     "text": [
      "0\n",
      "1\n",
      "2\n",
      "3\n",
      "4\n",
      "5\n",
      "6\n",
      "7\n",
      "8\n",
      "9\n"
     ]
    }
   ],
   "source": [
    "for i in x:\n",
    "    print(i)"
   ]
  },
  {
   "cell_type": "code",
   "execution_count": 27,
   "id": "57cf2e55-fac9-4efc-a9b0-60ed7546fd52",
   "metadata": {},
   "outputs": [
    {
     "name": "stdout",
     "output_type": "stream",
     "text": [
      "5\n",
      "6\n",
      "7\n",
      "8\n",
      "9\n",
      "10\n",
      "11\n",
      "12\n",
      "13\n",
      "14\n",
      "15\n",
      "16\n",
      "17\n",
      "18\n",
      "19\n"
     ]
    }
   ],
   "source": [
    "x = range(5, 20) #2nd case\n",
    "for i in x:\n",
    "    print(i)"
   ]
  },
  {
   "cell_type": "code",
   "execution_count": 29,
   "id": "3b1d11fb-0e8f-45ff-abdc-a328f450dd33",
   "metadata": {},
   "outputs": [
    {
     "name": "stdout",
     "output_type": "stream",
     "text": [
      "5\n",
      "8\n",
      "11\n",
      "14\n",
      "17\n"
     ]
    }
   ],
   "source": [
    "x = range(5,20,3) #3rd case\n",
    "for i in x:\n",
    "    print(i)"
   ]
  },
  {
   "cell_type": "code",
   "execution_count": 9,
   "id": "ab4d2a3f-cb7e-4b3c-b30a-fdb57aa06ff8",
   "metadata": {},
   "outputs": [
    {
     "name": "stdout",
     "output_type": "stream",
     "text": [
      "20\n",
      "17\n",
      "14\n",
      "11\n",
      "8\n"
     ]
    }
   ],
   "source": [
    "x = range(20,5,-3) #4th case\n",
    "for i in x:\n",
    "    print(i)"
   ]
  },
  {
   "cell_type": "code",
   "execution_count": 11,
   "id": "f82b34ba-eea5-44c3-8732-48b58fa7c4a8",
   "metadata": {},
   "outputs": [],
   "source": [
    "#array\n",
    "import array as ar"
   ]
  },
  {
   "cell_type": "code",
   "execution_count": 15,
   "id": "744ac2f7-67d4-4059-af2c-e2e5ce9d3878",
   "metadata": {},
   "outputs": [
    {
     "data": {
      "text/plain": [
       "array('i', [1, 2, 3, 4])"
      ]
     },
     "execution_count": 15,
     "metadata": {},
     "output_type": "execute_result"
    }
   ],
   "source": [
    "a = ar.array(\"i\",[1,2,3,4])\n",
    "a"
   ]
  },
  {
   "cell_type": "code",
   "execution_count": 17,
   "id": "7cb9d84b-aa4a-4efc-971f-8357008edc17",
   "metadata": {},
   "outputs": [
    {
     "data": {
      "text/plain": [
       "array.array"
      ]
     },
     "execution_count": 17,
     "metadata": {},
     "output_type": "execute_result"
    }
   ],
   "source": [
    "type(a)"
   ]
  },
  {
   "cell_type": "code",
   "execution_count": null,
   "id": "d62c9c69-7dcb-44ac-95e8-eb97fdd0aa67",
   "metadata": {},
   "outputs": [],
   "source": []
  }
 ],
 "metadata": {
  "kernelspec": {
   "display_name": "Python [conda env:base] *",
   "language": "python",
   "name": "conda-base-py"
  },
  "language_info": {
   "codemirror_mode": {
    "name": "ipython",
    "version": 3
   },
   "file_extension": ".py",
   "mimetype": "text/x-python",
   "name": "python",
   "nbconvert_exporter": "python",
   "pygments_lexer": "ipython3",
   "version": "3.12.7"
  }
 },
 "nbformat": 4,
 "nbformat_minor": 5
}
