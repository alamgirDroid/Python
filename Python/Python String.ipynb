{
 "cells": [
  {
   "cell_type": "markdown",
   "id": "78ed3653-e5fb-4e82-8a4b-77c96d9555ad",
   "metadata": {},
   "source": [
    "Strings\n",
    "\n",
    "*Strings in python are surrounded by either single quotation marks, or double quotation marks\n",
    "'hello' is the same as \"hello\""
   ]
  },
  {
   "cell_type": "code",
   "execution_count": 1,
   "id": "346b0055-fa9d-4296-951f-00928afbce9e",
   "metadata": {},
   "outputs": [
    {
     "name": "stdout",
     "output_type": "stream",
     "text": [
      "Alamgir\n"
     ]
    }
   ],
   "source": [
    "a = \"Alamgir\"\n",
    "print(a)"
   ]
  },
  {
   "cell_type": "markdown",
   "id": "44e7ec08-89b1-4b19-afba-30f03cc27d23",
   "metadata": {},
   "source": [
    "Strings are Arrays"
   ]
  },
  {
   "cell_type": "code",
   "execution_count": 3,
   "id": "96ecd0b8-1b23-4400-a277-1d2fa23000b7",
   "metadata": {},
   "outputs": [
    {
     "name": "stdout",
     "output_type": "stream",
     "text": [
      "l\n",
      "o\n",
      "A\n"
     ]
    }
   ],
   "source": [
    "a = \"Alamgir Hossen\"\n",
    "print(a[1])\n",
    "print(a[9])\n",
    "print(a[0])"
   ]
  },
  {
   "cell_type": "markdown",
   "id": "39cdbacd-ec3d-48e7-8c83-421109c7015a",
   "metadata": {},
   "source": [
    "Looping Through a String\n",
    "\n",
    "*Since strings are arrays, we can loop through the characters in a string, with a for loop"
   ]
  },
  {
   "cell_type": "code",
   "execution_count": 4,
   "id": "fea8ea98-a06f-4a49-b365-13a8c532a586",
   "metadata": {},
   "outputs": [
    {
     "name": "stdout",
     "output_type": "stream",
     "text": [
      "A\n",
      "l\n",
      "a\n",
      "m\n",
      "g\n",
      "i\n",
      "r\n"
     ]
    }
   ],
   "source": [
    "for  a in \"Alamgir\":\n",
    "    print(a)"
   ]
  },
  {
   "cell_type": "markdown",
   "id": "8da235a8-c90d-4d8b-8088-5f6243cd7f7f",
   "metadata": {},
   "source": [
    "String Length"
   ]
  },
  {
   "cell_type": "code",
   "execution_count": 5,
   "id": "fba5c710-9d2e-457f-ad97-b365ecf2e346",
   "metadata": {},
   "outputs": [
    {
     "name": "stdout",
     "output_type": "stream",
     "text": [
      "7\n"
     ]
    }
   ],
   "source": [
    "a = \"Alamgir\"\n",
    "print(len(a))"
   ]
  },
  {
   "cell_type": "code",
   "execution_count": null,
   "id": "e62650fb-10cd-4d40-8bdb-64b9cdd84f0c",
   "metadata": {},
   "outputs": [],
   "source": []
  },
  {
   "cell_type": "markdown",
   "id": "9e3cb145-88f0-4839-a46b-ee30cba68d16",
   "metadata": {},
   "source": [
    "Slicing Strings"
   ]
  },
  {
   "cell_type": "code",
   "execution_count": 10,
   "id": "fffac365-c6a1-4657-8e93-8854d5e3827f",
   "metadata": {},
   "outputs": [
    {
     "name": "stdout",
     "output_type": "stream",
     "text": [
      "amg\n"
     ]
    }
   ],
   "source": [
    "#Get the characters from position 2 to position 5 (not included)\n",
    "a = \"Alamgir\"\n",
    "print(a[2:5])"
   ]
  },
  {
   "cell_type": "markdown",
   "id": "4c06f7d8-7e5c-4f07-8a04-67f5ffea8c0d",
   "metadata": {},
   "source": [
    "Slice From the Start"
   ]
  },
  {
   "cell_type": "code",
   "execution_count": 11,
   "id": "641228df-c95b-4659-b1ec-32a3017862a9",
   "metadata": {},
   "outputs": [
    {
     "name": "stdout",
     "output_type": "stream",
     "text": [
      "Alamg\n"
     ]
    }
   ],
   "source": [
    "#Get the characters from the start to position 5 (not included)\n",
    "a = \"Alamgir\"\n",
    "print(a[:5])"
   ]
  },
  {
   "cell_type": "markdown",
   "id": "f5eebad2-5536-41c5-8895-f47a72b0b05f",
   "metadata": {},
   "source": [
    "Slice To the End"
   ]
  },
  {
   "cell_type": "code",
   "execution_count": 12,
   "id": "c056db1b-1de8-4b7a-90c0-808f987ccb71",
   "metadata": {},
   "outputs": [
    {
     "name": "stdout",
     "output_type": "stream",
     "text": [
      "amgir\n"
     ]
    }
   ],
   "source": [
    "#Get the characters from position 2, and all the way to the end\n",
    "a = \"Alamgir\"\n",
    "print(a[2:])"
   ]
  },
  {
   "cell_type": "markdown",
   "id": "eecc209b-ed9e-4b61-9ff0-3c1765d11a72",
   "metadata": {},
   "source": [
    "Negative Indexing"
   ]
  },
  {
   "cell_type": "code",
   "execution_count": 13,
   "id": "041e4f0e-9610-43a2-ab25-81f9920a6d1e",
   "metadata": {},
   "outputs": [
    {
     "name": "stdout",
     "output_type": "stream",
     "text": [
      "amg\n"
     ]
    }
   ],
   "source": [
    "#Use negative indexes to start the slice from the end of the string\n",
    "a = \"Alamgir\"\n",
    "print(a[-5:-2])"
   ]
  },
  {
   "cell_type": "code",
   "execution_count": null,
   "id": "20f383f8-113e-4e1f-9959-cd73e4ac048c",
   "metadata": {},
   "outputs": [],
   "source": []
  },
  {
   "cell_type": "markdown",
   "id": "7cf74546-51b6-47c0-8261-9d4b662bef48",
   "metadata": {},
   "source": [
    "Modify String"
   ]
  },
  {
   "cell_type": "code",
   "execution_count": 14,
   "id": "30f9d765-a16e-4466-8a96-ed49f87bdaf9",
   "metadata": {},
   "outputs": [
    {
     "name": "stdout",
     "output_type": "stream",
     "text": [
      "ALAMGIR\n"
     ]
    }
   ],
   "source": [
    "#upper case\n",
    "a = \"Alamgir\"\n",
    "print(a.upper())"
   ]
  },
  {
   "cell_type": "code",
   "execution_count": 15,
   "id": "d3bc1b66-5a3f-483d-9dd2-26d956631205",
   "metadata": {},
   "outputs": [
    {
     "name": "stdout",
     "output_type": "stream",
     "text": [
      "alamgir\n"
     ]
    }
   ],
   "source": [
    "#Lower case\n",
    "a = \"Alamgir\"\n",
    "print(a.lower())"
   ]
  },
  {
   "cell_type": "code",
   "execution_count": 17,
   "id": "2750d34b-e5a2-4d47-91bf-405c05d1a96c",
   "metadata": {},
   "outputs": [
    {
     "name": "stdout",
     "output_type": "stream",
     "text": [
      "Alamgir Hossen\n"
     ]
    }
   ],
   "source": [
    "#Remove Whitespace\n",
    "a = \"  Alamgir Hossen\"\n",
    "print(a.strip())"
   ]
  },
  {
   "cell_type": "code",
   "execution_count": 19,
   "id": "c5a17231-3036-450b-a924-5cab61e8a42f",
   "metadata": {},
   "outputs": [
    {
     "name": "stdout",
     "output_type": "stream",
     "text": [
      "Alomgir\n"
     ]
    }
   ],
   "source": [
    "#Replace String\n",
    "a = \"Alamgir\"\n",
    "print(a.replace(\"a\", \"o\"))"
   ]
  },
  {
   "cell_type": "code",
   "execution_count": 21,
   "id": "25324fd5-10db-4fdc-bedf-99a78c588287",
   "metadata": {},
   "outputs": [
    {
     "name": "stdout",
     "output_type": "stream",
     "text": [
      "['Alamgir', ' Hossen']\n"
     ]
    }
   ],
   "source": [
    "#Split String\n",
    "a = \"Alamgir, Hossen\"\n",
    "print(a.split(\",\"))"
   ]
  },
  {
   "cell_type": "code",
   "execution_count": null,
   "id": "c9c176ea-4780-431c-afed-3d4c68592275",
   "metadata": {},
   "outputs": [],
   "source": []
  },
  {
   "cell_type": "markdown",
   "id": "c9d50eef-23b2-4966-9c62-31aa6536d95e",
   "metadata": {},
   "source": [
    "String Concatenation"
   ]
  },
  {
   "cell_type": "code",
   "execution_count": 22,
   "id": "7999ecc3-2227-4785-80bb-1054d2093f1b",
   "metadata": {},
   "outputs": [
    {
     "name": "stdout",
     "output_type": "stream",
     "text": [
      "AlamgirHossen\n"
     ]
    }
   ],
   "source": [
    "#Merge variable a with variable b into variable c\n",
    "a = \"Alamgir\"\n",
    "b = \"Hossen\"\n",
    "c = a + b\n",
    "print(c)"
   ]
  },
  {
   "cell_type": "code",
   "execution_count": 23,
   "id": "2b948d17-c9b2-4117-ae2a-241ab837774c",
   "metadata": {},
   "outputs": [
    {
     "name": "stdout",
     "output_type": "stream",
     "text": [
      "Alamgir Hossen\n"
     ]
    }
   ],
   "source": [
    "#To add a space between them, add a \" \"\n",
    "a = \"Alamgir\"\n",
    "b = \"Hossen\"\n",
    "c = a + \" \" + b\n",
    "print(c)"
   ]
  },
  {
   "cell_type": "code",
   "execution_count": null,
   "id": "b6571ca4-43d4-4564-ac3f-60e7e8723c29",
   "metadata": {},
   "outputs": [],
   "source": []
  },
  {
   "cell_type": "markdown",
   "id": "42568321-1281-4c53-bdd4-0593c449a40c",
   "metadata": {},
   "source": [
    "Format - Strings"
   ]
  },
  {
   "cell_type": "code",
   "execution_count": 24,
   "id": "e3481407-c0f9-4f70-9626-cdcc5b37cf20",
   "metadata": {},
   "outputs": [
    {
     "ename": "TypeError",
     "evalue": "can only concatenate str (not \"int\") to str",
     "output_type": "error",
     "traceback": [
      "\u001b[31m---------------------------------------------------------------------------\u001b[39m",
      "\u001b[31mTypeError\u001b[39m                                 Traceback (most recent call last)",
      "\u001b[36mCell\u001b[39m\u001b[36m \u001b[39m\u001b[32mIn[24]\u001b[39m\u001b[32m, line 3\u001b[39m\n\u001b[32m      1\u001b[39m \u001b[38;5;66;03m#f-string\u001b[39;00m\n\u001b[32m      2\u001b[39m age = \u001b[32m27\u001b[39m\n\u001b[32m----> \u001b[39m\u001b[32m3\u001b[39m txt = \u001b[33;43m\"\u001b[39;49m\u001b[33;43mMy name is Alamgir, I am \u001b[39;49m\u001b[33;43m\"\u001b[39;49m\u001b[43m \u001b[49m\u001b[43m+\u001b[49m\u001b[43m \u001b[49m\u001b[43mage\u001b[49m\n\u001b[32m      4\u001b[39m \u001b[38;5;28mprint\u001b[39m(txt)\n",
      "\u001b[31mTypeError\u001b[39m: can only concatenate str (not \"int\") to str"
     ]
    }
   ],
   "source": [
    "#As we learned in the Python Variables chapter, we cannot combine strings and numbers like this\n",
    "age = 27\n",
    "txt = \"My name is Alamgir, I am \" + age\n",
    "print(txt)"
   ]
  },
  {
   "cell_type": "code",
   "execution_count": 25,
   "id": "582c7a21-3a07-4e4e-97e9-4f7c6bfea6b6",
   "metadata": {},
   "outputs": [
    {
     "name": "stdout",
     "output_type": "stream",
     "text": [
      "My name is Alamgir, I am 27 \n"
     ]
    }
   ],
   "source": [
    "#f-string\n",
    "age = 27\n",
    "txt = f\"My name is Alamgir, I am {age} \"\n",
    "print(txt)"
   ]
  },
  {
   "cell_type": "code",
   "execution_count": 26,
   "id": "5a4fae33-bee8-4ddb-ba48-adb12c965a03",
   "metadata": {},
   "outputs": [
    {
     "name": "stdout",
     "output_type": "stream",
     "text": [
      "The price is 57 dollars\n"
     ]
    }
   ],
   "source": [
    "#Add a placeholder for the price variable\n",
    "price = 57\n",
    "txt = f\"The price is {price} dollars\"\n",
    "print(txt)"
   ]
  },
  {
   "cell_type": "code",
   "execution_count": 27,
   "id": "4eca1829-7452-47cd-b5c7-04d1dacfdc90",
   "metadata": {},
   "outputs": [
    {
     "name": "stdout",
     "output_type": "stream",
     "text": [
      "The price is 57.00 dollars\n"
     ]
    }
   ],
   "source": [
    "#Display the price with 2 decimals\n",
    "price = 57\n",
    "txt = f\"The price is {price:.2f} dollars\"\n",
    "print(txt)"
   ]
  },
  {
   "cell_type": "code",
   "execution_count": 28,
   "id": "6a69d1b2-a64d-4686-9808-cf65763b2440",
   "metadata": {},
   "outputs": [
    {
     "name": "stdout",
     "output_type": "stream",
     "text": [
      "The price is 1180 dollars\n"
     ]
    }
   ],
   "source": [
    "#Perform a math operation in the placeholder, and return the result\n",
    "txt = f\"The price is {20 * 59} dollars\"\n",
    "print(txt)"
   ]
  },
  {
   "cell_type": "code",
   "execution_count": null,
   "id": "a3ad1d39-c984-46e4-991f-c18adde9f4a6",
   "metadata": {},
   "outputs": [],
   "source": []
  }
 ],
 "metadata": {
  "kernelspec": {
   "display_name": "Python 3 (ipykernel)",
   "language": "python",
   "name": "python3"
  },
  "language_info": {
   "codemirror_mode": {
    "name": "ipython",
    "version": 3
   },
   "file_extension": ".py",
   "mimetype": "text/x-python",
   "name": "python",
   "nbconvert_exporter": "python",
   "pygments_lexer": "ipython3",
   "version": "3.13.3"
  },
  "widgets": {
   "application/vnd.jupyter.widget-state+json": {
    "state": {},
    "version_major": 2,
    "version_minor": 0
   }
  }
 },
 "nbformat": 4,
 "nbformat_minor": 5
}
