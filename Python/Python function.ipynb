{
 "cells": [
  {
   "cell_type": "code",
   "execution_count": 2,
   "id": "a2eed2f8-7fcf-4f0d-bef7-6d05c845e58a",
   "metadata": {},
   "outputs": [
    {
     "name": "stdout",
     "output_type": "stream",
     "text": [
      "Hello from a function\n"
     ]
    }
   ],
   "source": [
    "#Calling a function\n",
    "def function():\n",
    "    print(\"Hello from a function\")\n",
    "function()"
   ]
  },
  {
   "cell_type": "markdown",
   "id": "47f40c67-c1ba-40c2-bc21-febfe75d5ada",
   "metadata": {},
   "source": [
    "Arguments"
   ]
  },
  {
   "cell_type": "code",
   "execution_count": 3,
   "id": "fa4f1a10-9fb4-4c61-8e6d-e90708518a88",
   "metadata": {},
   "outputs": [
    {
     "name": "stdout",
     "output_type": "stream",
     "text": [
      "Alamgir Refsnes\n",
      "Jahid Refsnes\n",
      "Linus Refsnes\n"
     ]
    }
   ],
   "source": [
    "def function(fname):\n",
    "  print(fname + \" Refsnes\")\n",
    "\n",
    "function(\"Alamgir\")\n",
    "function(\"Jahid\")\n",
    "function(\"Linus\")"
   ]
  },
  {
   "cell_type": "code",
   "execution_count": 4,
   "id": "03b66454-dda0-4b93-9bed-1fa83dedfaa6",
   "metadata": {},
   "outputs": [
    {
     "name": "stdout",
     "output_type": "stream",
     "text": [
      "Alamgir Hossen\n"
     ]
    }
   ],
   "source": [
    "#This function expects 2 arguments, and gets 2 arguments\n",
    "def function(fname, lname):\n",
    "  print(fname + \" \" + lname)\n",
    "\n",
    "function(\"Alamgir\", \"Hossen\")"
   ]
  },
  {
   "cell_type": "code",
   "execution_count": 5,
   "id": "e702c1c8-cb55-46fb-90f4-b3bfb73319ba",
   "metadata": {},
   "outputs": [
    {
     "name": "stdout",
     "output_type": "stream",
     "text": [
      "The youngest child is Linus\n"
     ]
    }
   ],
   "source": [
    "#If the number of arguments is unknown, add a * before the parameter name\n",
    "def function(*kids):\n",
    "  print(\"The youngest child is \" + kids[2])\n",
    "\n",
    "function(\"Emil\", \"Tobias\", \"Linus\")"
   ]
  },
  {
   "cell_type": "code",
   "execution_count": 6,
   "id": "7388ace9-88a9-425e-b62d-227a3f5d98ef",
   "metadata": {},
   "outputs": [
    {
     "name": "stdout",
     "output_type": "stream",
     "text": [
      "The youngest child is Tobias\n"
     ]
    }
   ],
   "source": [
    "#Keyword Arguments\n",
    "def function(child3, child2, child1):\n",
    "  print(\"The youngest child is \" + child2)\n",
    "\n",
    "function(child1 = \"Emil\", child2 = \"Tobias\", child3 = \"Linus\")"
   ]
  },
  {
   "cell_type": "code",
   "execution_count": 8,
   "id": "3fd2766b-3813-4457-b876-3eab49cd50d5",
   "metadata": {},
   "outputs": [
    {
     "name": "stdout",
     "output_type": "stream",
     "text": [
      "His fast name is Tobias\n"
     ]
    }
   ],
   "source": [
    "#If the number of keyword arguments is unknown, add a double ** before the parameter name\n",
    "def function(**kid):\n",
    "  print(\"His fast name is \" + kid[\"fname\"])\n",
    "\n",
    "function(fname = \"Tobias\", lname = \"Refsnes\")"
   ]
  },
  {
   "cell_type": "code",
   "execution_count": 9,
   "id": "59f559f3-c6f7-4caa-b928-74d62d3c9753",
   "metadata": {},
   "outputs": [
    {
     "name": "stdout",
     "output_type": "stream",
     "text": [
      "I am from Sweden\n",
      "I am from India\n",
      "I am from Norway\n",
      "I am from Brazil\n"
     ]
    }
   ],
   "source": [
    "#If we call the function without argument, it uses the default value\n",
    "def function(country = \"Norway\"):\n",
    "  print(\"I am from \" + country)\n",
    "\n",
    "function(\"Sweden\")\n",
    "function(\"India\")\n",
    "function()\n",
    "function(\"Brazil\")"
   ]
  },
  {
   "cell_type": "code",
   "execution_count": 10,
   "id": "a2eb4101-af58-4f1f-9cd5-c5501a5312d8",
   "metadata": {},
   "outputs": [
    {
     "name": "stdout",
     "output_type": "stream",
     "text": [
      "apple\n",
      "banana\n",
      "cherry\n"
     ]
    }
   ],
   "source": [
    "# if you send a List as an argument, it will still be a List when it reaches the function\n",
    "def function(food):\n",
    "  for x in food:\n",
    "    print(x)\n",
    "\n",
    "fruits = [\"apple\", \"banana\", \"cherry\"]\n",
    "\n",
    "function(fruits)"
   ]
  },
  {
   "cell_type": "code",
   "execution_count": 11,
   "id": "817f864b-0d8a-4c2a-b0c3-5e43ef552d86",
   "metadata": {},
   "outputs": [
    {
     "name": "stdout",
     "output_type": "stream",
     "text": [
      "15\n",
      "25\n",
      "45\n"
     ]
    }
   ],
   "source": [
    "#To let a function return a value, use the return statement\n",
    "def function(x):\n",
    "  return 5 * x\n",
    "\n",
    "print(function(3))\n",
    "print(function(5))\n",
    "print(function(9))"
   ]
  },
  {
   "cell_type": "code",
   "execution_count": null,
   "id": "543d2000-8bfb-4138-8664-e6bb71fc02b0",
   "metadata": {},
   "outputs": [],
   "source": []
  },
  {
   "cell_type": "markdown",
   "id": "9e207901-5eee-4068-9c93-a53bb40a9080",
   "metadata": {},
   "source": [
    "User Input"
   ]
  },
  {
   "cell_type": "code",
   "execution_count": 1,
   "id": "25aede16-1bab-4fde-87d1-44d6a9b812c8",
   "metadata": {},
   "outputs": [
    {
     "name": "stdin",
     "output_type": "stream",
     "text": [
      "Enter username: Alamgir Hossen\n"
     ]
    },
    {
     "name": "stdout",
     "output_type": "stream",
     "text": [
      "Username is: Alamgir Hossen\n"
     ]
    }
   ],
   "source": [
    "username = input(\"Enter username:\")\n",
    "print(\"Username is: \" + username)"
   ]
  },
  {
   "cell_type": "code",
   "execution_count": null,
   "id": "e4aaae62-b0f8-4d39-9a1a-f1baf5d011fa",
   "metadata": {},
   "outputs": [],
   "source": []
  }
 ],
 "metadata": {
  "kernelspec": {
   "display_name": "Python 3 (ipykernel)",
   "language": "python",
   "name": "python3"
  },
  "language_info": {
   "codemirror_mode": {
    "name": "ipython",
    "version": 3
   },
   "file_extension": ".py",
   "mimetype": "text/x-python",
   "name": "python",
   "nbconvert_exporter": "python",
   "pygments_lexer": "ipython3",
   "version": "3.13.3"
  },
  "widgets": {
   "application/vnd.jupyter.widget-state+json": {
    "state": {},
    "version_major": 2,
    "version_minor": 0
   }
  }
 },
 "nbformat": 4,
 "nbformat_minor": 5
}
