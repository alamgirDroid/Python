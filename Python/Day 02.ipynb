{
 "cells": [
  {
   "cell_type": "code",
   "execution_count": 7,
   "id": "f5e1caf9-10b4-4d31-8214-c3c2bce256c4",
   "metadata": {},
   "outputs": [
    {
     "name": "stdout",
     "output_type": "stream",
     "text": [
      "Hello World & Welcome to 60 Days of Python."
     ]
    }
   ],
   "source": [
    "print('Hello World', 'Welcome to 60 Days of Python', sep=' & ', end='.')"
   ]
  },
  {
   "cell_type": "markdown",
   "id": "fbcf7e02-e0b5-4e85-8041-d4a8ead78657",
   "metadata": {},
   "source": [
    "Variable"
   ]
  },
  {
   "cell_type": "code",
   "execution_count": 10,
   "id": "5fdc085b-0138-42b2-989c-99ce7a5d368f",
   "metadata": {},
   "outputs": [
    {
     "name": "stdout",
     "output_type": "stream",
     "text": [
      "Hello World\n"
     ]
    }
   ],
   "source": [
    "var = 'Hello World'\n",
    "print(var)"
   ]
  },
  {
   "cell_type": "code",
   "execution_count": 2,
   "id": "9ef900c6-ca3b-48dc-836e-343984ea8421",
   "metadata": {},
   "outputs": [
    {
     "name": "stdout",
     "output_type": "stream",
     "text": [
      "Hello World\n",
      "My First Sentence is Hello World\n"
     ]
    }
   ],
   "source": [
    "var = 'Hello World'\n",
    "print(var)\n",
    "print('My First Sentence is ' +var)"
   ]
  },
  {
   "cell_type": "code",
   "execution_count": 14,
   "id": "4297088a-e4ba-46ae-a6e2-a4d72e84940a",
   "metadata": {},
   "outputs": [
    {
     "data": {
      "text/plain": [
       "2345647010160"
      ]
     },
     "execution_count": 14,
     "metadata": {},
     "output_type": "execute_result"
    }
   ],
   "source": [
    "id(var)"
   ]
  },
  {
   "cell_type": "code",
   "execution_count": 8,
   "id": "3bb14ee5-031a-49a8-8706-03ad6502af44",
   "metadata": {},
   "outputs": [
    {
     "data": {
      "text/plain": [
       "52"
      ]
     },
     "execution_count": 8,
     "metadata": {},
     "output_type": "execute_result"
    }
   ],
   "source": [
    "import sys\n",
    "sys.getsizeof(var)"
   ]
  },
  {
   "cell_type": "code",
   "execution_count": null,
   "id": "1822dad9-1098-4d7d-b09d-463719524b15",
   "metadata": {},
   "outputs": [],
   "source": []
  }
 ],
 "metadata": {
  "kernelspec": {
   "display_name": "Python [conda env:base] *",
   "language": "python",
   "name": "conda-base-py"
  },
  "language_info": {
   "codemirror_mode": {
    "name": "ipython",
    "version": 3
   },
   "file_extension": ".py",
   "mimetype": "text/x-python",
   "name": "python",
   "nbconvert_exporter": "python",
   "pygments_lexer": "ipython3",
   "version": "3.12.7"
  }
 },
 "nbformat": 4,
 "nbformat_minor": 5
}
