{
 "cells": [
  {
   "cell_type": "markdown",
   "id": "e3c0157a-2085-4966-9544-9a522e66c977",
   "metadata": {},
   "source": [
    "Input function"
   ]
  },
  {
   "cell_type": "code",
   "execution_count": 2,
   "id": "4ba9a610-2919-47aa-b45b-d4df8a1f9ad9",
   "metadata": {},
   "outputs": [
    {
     "data": {
      "text/plain": [
       "str"
      ]
     },
     "execution_count": 2,
     "metadata": {},
     "output_type": "execute_result"
    }
   ],
   "source": [
    "data = 'Alamgir'\n",
    "type(data)"
   ]
  },
  {
   "cell_type": "code",
   "execution_count": 4,
   "id": "27a8b517-aca5-4e3f-b31d-60ad628c3cc3",
   "metadata": {},
   "outputs": [
    {
     "name": "stdin",
     "output_type": "stream",
     "text": [
      " Alamgir\n"
     ]
    }
   ],
   "source": [
    "data = input()"
   ]
  },
  {
   "cell_type": "code",
   "execution_count": 6,
   "id": "c419a432-4301-42cd-9962-9b2caa3cc7f6",
   "metadata": {},
   "outputs": [
    {
     "data": {
      "text/plain": [
       "'Alamgir'"
      ]
     },
     "execution_count": 6,
     "metadata": {},
     "output_type": "execute_result"
    }
   ],
   "source": [
    "data"
   ]
  },
  {
   "cell_type": "code",
   "execution_count": 8,
   "id": "2ac85ce7-96ad-4d82-af78-351370527563",
   "metadata": {},
   "outputs": [
    {
     "data": {
      "text/plain": [
       "str"
      ]
     },
     "execution_count": 8,
     "metadata": {},
     "output_type": "execute_result"
    }
   ],
   "source": [
    "type(data)"
   ]
  },
  {
   "cell_type": "code",
   "execution_count": 10,
   "id": "c3e65f29-5050-4ea8-8703-b78a381becdf",
   "metadata": {},
   "outputs": [
    {
     "name": "stdin",
     "output_type": "stream",
     "text": [
      " 10\n",
      " 30\n"
     ]
    }
   ],
   "source": [
    "x = input()\n",
    "y = input()"
   ]
  },
  {
   "cell_type": "code",
   "execution_count": 12,
   "id": "e69a9ce2-2122-499b-88a0-bdf5f6d89713",
   "metadata": {},
   "outputs": [
    {
     "data": {
      "text/plain": [
       "'1030'"
      ]
     },
     "execution_count": 12,
     "metadata": {},
     "output_type": "execute_result"
    }
   ],
   "source": [
    "x+y"
   ]
  },
  {
   "cell_type": "code",
   "execution_count": 14,
   "id": "b857c7a1-3fbb-467f-9542-e91349655846",
   "metadata": {},
   "outputs": [
    {
     "data": {
      "text/plain": [
       "str"
      ]
     },
     "execution_count": 14,
     "metadata": {},
     "output_type": "execute_result"
    }
   ],
   "source": [
    "type(x)"
   ]
  },
  {
   "cell_type": "code",
   "execution_count": 16,
   "id": "4f2d7c6a-69f2-43e6-8eda-b386f6de092f",
   "metadata": {},
   "outputs": [
    {
     "data": {
      "text/plain": [
       "str"
      ]
     },
     "execution_count": 16,
     "metadata": {},
     "output_type": "execute_result"
    }
   ],
   "source": [
    "type(y)"
   ]
  },
  {
   "cell_type": "code",
   "execution_count": 18,
   "id": "b4d75153-64e5-46c4-bba3-81d8507f5f2c",
   "metadata": {},
   "outputs": [
    {
     "data": {
      "text/plain": [
       "str"
      ]
     },
     "execution_count": 18,
     "metadata": {},
     "output_type": "execute_result"
    }
   ],
   "source": [
    "type(x+y)"
   ]
  },
  {
   "cell_type": "code",
   "execution_count": 22,
   "id": "f7ca5ed6-bfa5-4211-87e9-fbd1fda7ca52",
   "metadata": {},
   "outputs": [],
   "source": [
    "x = int(x)\n",
    "y = int(y)"
   ]
  },
  {
   "cell_type": "code",
   "execution_count": 24,
   "id": "6e4d558b-c40e-4f23-942f-3cdc9f9df36b",
   "metadata": {},
   "outputs": [
    {
     "data": {
      "text/plain": [
       "40"
      ]
     },
     "execution_count": 24,
     "metadata": {},
     "output_type": "execute_result"
    }
   ],
   "source": [
    "x+y"
   ]
  },
  {
   "cell_type": "code",
   "execution_count": 26,
   "id": "7983f984-22be-483f-acfe-a2915c197ae8",
   "metadata": {},
   "outputs": [
    {
     "data": {
      "text/plain": [
       "int"
      ]
     },
     "execution_count": 26,
     "metadata": {},
     "output_type": "execute_result"
    }
   ],
   "source": [
    "type(x)"
   ]
  },
  {
   "cell_type": "code",
   "execution_count": 32,
   "id": "1066a842-37d5-4857-9b09-4f70cdab7b67",
   "metadata": {},
   "outputs": [
    {
     "name": "stdin",
     "output_type": "stream",
     "text": [
      "Enter your 1st num:  300\n"
     ]
    }
   ],
   "source": [
    "x = int(input('Enter your 1st num: '))"
   ]
  },
  {
   "cell_type": "code",
   "execution_count": 34,
   "id": "417be71b-a4ad-4ae4-8d2c-5213e7d688a5",
   "metadata": {},
   "outputs": [
    {
     "name": "stdin",
     "output_type": "stream",
     "text": [
      "Enter your 2nd num:  20.25\n"
     ]
    }
   ],
   "source": [
    "y = float(input('Enter your 2nd num: '))"
   ]
  },
  {
   "cell_type": "code",
   "execution_count": 36,
   "id": "f6395941-0c79-433c-83be-61fe5b756660",
   "metadata": {},
   "outputs": [
    {
     "data": {
      "text/plain": [
       "320.25"
      ]
     },
     "execution_count": 36,
     "metadata": {},
     "output_type": "execute_result"
    }
   ],
   "source": [
    "x+y"
   ]
  },
  {
   "cell_type": "code",
   "execution_count": 38,
   "id": "06301655-f083-4a96-b30d-19fa53d6fea9",
   "metadata": {},
   "outputs": [],
   "source": [
    "data = 'Alamgir Hossen'"
   ]
  },
  {
   "cell_type": "code",
   "execution_count": 40,
   "id": "37a9b6bf-03b2-4349-b622-acfe4f1a7955",
   "metadata": {},
   "outputs": [
    {
     "data": {
      "text/plain": [
       "str"
      ]
     },
     "execution_count": 40,
     "metadata": {},
     "output_type": "execute_result"
    }
   ],
   "source": [
    "type(data)"
   ]
  },
  {
   "cell_type": "code",
   "execution_count": 42,
   "id": "5ca27559-5608-43d0-9c61-3de1502151a5",
   "metadata": {},
   "outputs": [
    {
     "data": {
      "text/plain": [
       "14"
      ]
     },
     "execution_count": 42,
     "metadata": {},
     "output_type": "execute_result"
    }
   ],
   "source": [
    "len(data)"
   ]
  },
  {
   "cell_type": "code",
   "execution_count": 44,
   "id": "05bf6eba-cc51-4382-a02a-efaf0aa19984",
   "metadata": {},
   "outputs": [
    {
     "data": {
      "text/plain": [
       "55"
      ]
     },
     "execution_count": 44,
     "metadata": {},
     "output_type": "execute_result"
    }
   ],
   "source": [
    "import sys\n",
    "sys.getsizeof(data)"
   ]
  },
  {
   "cell_type": "code",
   "execution_count": 46,
   "id": "b8c493ae-3fc6-4d1c-ad93-4343353e62a0",
   "metadata": {},
   "outputs": [
    {
     "data": {
      "text/plain": [
       "1"
      ]
     },
     "execution_count": 46,
     "metadata": {},
     "output_type": "execute_result"
    }
   ],
   "source": [
    "data.count('Alamgir')"
   ]
  },
  {
   "cell_type": "markdown",
   "id": "0a6abaf2-c003-4440-84bd-242afa0ce1ae",
   "metadata": {},
   "source": [
    "Python String methods"
   ]
  },
  {
   "cell_type": "code",
   "execution_count": 3,
   "id": "30cac13a-ea54-4727-a27b-27b6885fd360",
   "metadata": {},
   "outputs": [
    {
     "data": {
      "text/plain": [
       "8"
      ]
     },
     "execution_count": 3,
     "metadata": {},
     "output_type": "execute_result"
    }
   ],
   "source": [
    "data = \"60 Days of python\" #find value from string\n",
    "data.find('of')"
   ]
  },
  {
   "cell_type": "code",
   "execution_count": 5,
   "id": "d34d6508-7100-4106-bfbb-df0febb9d159",
   "metadata": {},
   "outputs": [
    {
     "data": {
      "text/plain": [
       "9"
      ]
     },
     "execution_count": 5,
     "metadata": {},
     "output_type": "execute_result"
    }
   ],
   "source": [
    "data.find(\"f\")"
   ]
  },
  {
   "cell_type": "code",
   "execution_count": 7,
   "id": "ca8e4f8c-66ad-44a5-a35e-397d1eab7a2f",
   "metadata": {},
   "outputs": [
    {
     "data": {
      "text/plain": [
       "-1"
      ]
     },
     "execution_count": 7,
     "metadata": {},
     "output_type": "execute_result"
    }
   ],
   "source": [
    "data.find('y',6,10)"
   ]
  },
  {
   "cell_type": "code",
   "execution_count": 9,
   "id": "b042c517-ae8e-490a-a5b7-5978176be6aa",
   "metadata": {},
   "outputs": [
    {
     "data": {
      "text/plain": [
       "12"
      ]
     },
     "execution_count": 9,
     "metadata": {},
     "output_type": "execute_result"
    }
   ],
   "source": [
    "data.find(\"y\",6,14)"
   ]
  },
  {
   "cell_type": "code",
   "execution_count": 11,
   "id": "372af79d-29e9-40bc-a937-03b533a59619",
   "metadata": {},
   "outputs": [
    {
     "data": {
      "text/plain": [
       "12"
      ]
     },
     "execution_count": 11,
     "metadata": {},
     "output_type": "execute_result"
    }
   ],
   "source": [
    "data.index(\"y\",6,13) #index"
   ]
  },
  {
   "cell_type": "code",
   "execution_count": 13,
   "id": "40bde733-e874-4692-ba1a-95d504daf925",
   "metadata": {},
   "outputs": [
    {
     "ename": "ValueError",
     "evalue": "substring not found",
     "output_type": "error",
     "traceback": [
      "\u001b[1;31m---------------------------------------------------------------------------\u001b[0m",
      "\u001b[1;31mValueError\u001b[0m                                Traceback (most recent call last)",
      "Cell \u001b[1;32mIn[13], line 1\u001b[0m\n\u001b[1;32m----> 1\u001b[0m data\u001b[38;5;241m.\u001b[39mindex(\u001b[38;5;124m\"\u001b[39m\u001b[38;5;124my\u001b[39m\u001b[38;5;124m\"\u001b[39m,\u001b[38;5;241m6\u001b[39m,\u001b[38;5;241m10\u001b[39m)\n",
      "\u001b[1;31mValueError\u001b[0m: substring not found"
     ]
    }
   ],
   "source": [
    "data.index(\"y\",6,10)"
   ]
  },
  {
   "cell_type": "code",
   "execution_count": 15,
   "id": "d53952f5-a0f1-4947-9404-bfc174adfbbe",
   "metadata": {},
   "outputs": [
    {
     "data": {
      "text/plain": [
       "'60 days of python'"
      ]
     },
     "execution_count": 15,
     "metadata": {},
     "output_type": "execute_result"
    }
   ],
   "source": [
    "data.lower() #convert all char into lower case"
   ]
  },
  {
   "cell_type": "code",
   "execution_count": 17,
   "id": "49162514-c656-4eff-b237-8e571aa529ab",
   "metadata": {},
   "outputs": [
    {
     "data": {
      "text/plain": [
       "'60 DAYS OF PYTHON'"
      ]
     },
     "execution_count": 17,
     "metadata": {},
     "output_type": "execute_result"
    }
   ],
   "source": [
    "data.upper() #Convert all char into Upper case"
   ]
  },
  {
   "cell_type": "code",
   "execution_count": 19,
   "id": "dfa81e5d-0c2f-42b8-a051-fd7552864ff1",
   "metadata": {},
   "outputs": [
    {
     "data": {
      "text/plain": [
       "'60 days of python'"
      ]
     },
     "execution_count": 19,
     "metadata": {},
     "output_type": "execute_result"
    }
   ],
   "source": [
    "data.casefold() #lower"
   ]
  },
  {
   "cell_type": "code",
   "execution_count": 21,
   "id": "e208ed0b-fff6-4141-9ea8-a17182556cf0",
   "metadata": {},
   "outputs": [
    {
     "data": {
      "text/plain": [
       "'60 days of python'"
      ]
     },
     "execution_count": 21,
     "metadata": {},
     "output_type": "execute_result"
    }
   ],
   "source": [
    "data.capitalize() #Convert only first char into upper case"
   ]
  },
  {
   "cell_type": "code",
   "execution_count": 23,
   "id": "06d18a42-5639-474f-a052-2d247ed03998",
   "metadata": {},
   "outputs": [
    {
     "data": {
      "text/plain": [
       "'60 dAYS OF PYTHON'"
      ]
     },
     "execution_count": 23,
     "metadata": {},
     "output_type": "execute_result"
    }
   ],
   "source": [
    "data.swapcase()"
   ]
  },
  {
   "cell_type": "code",
   "execution_count": 25,
   "id": "0a3bc213-7bf3-43bd-b918-88d539d6e7c0",
   "metadata": {},
   "outputs": [
    {
     "data": {
      "text/plain": [
       "'60 Days Of Python'"
      ]
     },
     "execution_count": 25,
     "metadata": {},
     "output_type": "execute_result"
    }
   ],
   "source": [
    "data.title()"
   ]
  },
  {
   "cell_type": "code",
   "execution_count": 27,
   "id": "65de50c3-d489-49c5-9fa8-dee1c44b1055",
   "metadata": {},
   "outputs": [
    {
     "data": {
      "text/plain": [
       "False"
      ]
     },
     "execution_count": 27,
     "metadata": {},
     "output_type": "execute_result"
    }
   ],
   "source": [
    "data.islower()"
   ]
  },
  {
   "cell_type": "code",
   "execution_count": 31,
   "id": "c21fa256-70b7-4a59-af0d-6e7da5963d6d",
   "metadata": {},
   "outputs": [
    {
     "data": {
      "text/plain": [
       "False"
      ]
     },
     "execution_count": 31,
     "metadata": {},
     "output_type": "execute_result"
    }
   ],
   "source": [
    "data.isupper()"
   ]
  },
  {
   "cell_type": "code",
   "execution_count": 33,
   "id": "06f205a3-069b-4877-996c-f3c67ed492d9",
   "metadata": {},
   "outputs": [
    {
     "data": {
      "text/plain": [
       "b'60 Days of python'"
      ]
     },
     "execution_count": 33,
     "metadata": {},
     "output_type": "execute_result"
    }
   ],
   "source": [
    "data.encode()"
   ]
  },
  {
   "cell_type": "code",
   "execution_count": 35,
   "id": "8848424b-ffb7-4b25-8c51-9429fe939c25",
   "metadata": {},
   "outputs": [
    {
     "data": {
      "text/plain": [
       "bytes"
      ]
     },
     "execution_count": 35,
     "metadata": {},
     "output_type": "execute_result"
    }
   ],
   "source": [
    "type(data.encode())"
   ]
  },
  {
   "cell_type": "code",
   "execution_count": 37,
   "id": "fb0a0eac-2a6a-4eee-b106-34b35df03c54",
   "metadata": {},
   "outputs": [
    {
     "data": {
      "text/plain": [
       "['60', 'Days', 'of', 'python']"
      ]
     },
     "execution_count": 37,
     "metadata": {},
     "output_type": "execute_result"
    }
   ],
   "source": [
    "data.split()"
   ]
  },
  {
   "cell_type": "code",
   "execution_count": 39,
   "id": "f31051dc-d53f-4035-86c1-55ee9a66d475",
   "metadata": {},
   "outputs": [
    {
     "data": {
      "text/plain": [
       "'60'"
      ]
     },
     "execution_count": 39,
     "metadata": {},
     "output_type": "execute_result"
    }
   ],
   "source": [
    "data.split()[0]"
   ]
  },
  {
   "cell_type": "code",
   "execution_count": 41,
   "id": "15d5045b-d994-4190-9804-02d3fc936487",
   "metadata": {},
   "outputs": [
    {
     "data": {
      "text/plain": [
       "'      60 Days of python       '"
      ]
     },
     "execution_count": 41,
     "metadata": {},
     "output_type": "execute_result"
    }
   ],
   "source": [
    "data.center(30)"
   ]
  },
  {
   "cell_type": "code",
   "execution_count": 43,
   "id": "1db37675-644c-459a-958c-fbff7f7dd8db",
   "metadata": {},
   "outputs": [
    {
     "data": {
      "text/plain": [
       "'30 Days of python'"
      ]
     },
     "execution_count": 43,
     "metadata": {},
     "output_type": "execute_result"
    }
   ],
   "source": [
    "data.replace(\"60\",\"30\")"
   ]
  },
  {
   "cell_type": "code",
   "execution_count": 45,
   "id": "d38248df-3f2a-4206-b7f7-f71d1496a4fb",
   "metadata": {},
   "outputs": [
    {
     "name": "stdout",
     "output_type": "stream",
     "text": [
      "I have 1000 taka\n"
     ]
    }
   ],
   "source": [
    "x=10\n",
    "y=100\n",
    "z=x*y\n",
    "print(\"I have\",z,\"taka\")"
   ]
  },
  {
   "cell_type": "code",
   "execution_count": 47,
   "id": "ccfd1f4a-2c9e-4bff-b7d2-6a7706f788b4",
   "metadata": {},
   "outputs": [
    {
     "name": "stdout",
     "output_type": "stream",
     "text": [
      "I have 1000 taka \n"
     ]
    }
   ],
   "source": [
    "print(\"I have {} taka \".format(z))"
   ]
  }
 ],
 "metadata": {
  "kernelspec": {
   "display_name": "Python [conda env:base] *",
   "language": "python",
   "name": "conda-base-py"
  },
  "language_info": {
   "codemirror_mode": {
    "name": "ipython",
    "version": 3
   },
   "file_extension": ".py",
   "mimetype": "text/x-python",
   "name": "python",
   "nbconvert_exporter": "python",
   "pygments_lexer": "ipython3",
   "version": "3.12.7"
  }
 },
 "nbformat": 4,
 "nbformat_minor": 5
}
