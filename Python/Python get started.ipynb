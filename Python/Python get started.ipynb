{
 "cells": [
  {
   "cell_type": "markdown",
   "id": "12cc21fb-4dcd-4b5b-ae91-469eebb0cf44",
   "metadata": {},
   "source": [
    "First python code"
   ]
  },
  {
   "cell_type": "code",
   "execution_count": 1,
   "id": "a43ab192-613e-4dca-989b-694c5b0332a7",
   "metadata": {},
   "outputs": [
    {
     "name": "stdout",
     "output_type": "stream",
     "text": [
      "Hello World\n"
     ]
    }
   ],
   "source": [
    "print(\"Hello World\")"
   ]
  },
  {
   "cell_type": "markdown",
   "id": "386d58a6-bcc0-4fb8-8e4b-a83e555e0b6f",
   "metadata": {},
   "source": [
    "#Python Version"
   ]
  },
  {
   "cell_type": "code",
   "execution_count": 2,
   "id": "003ea560-86be-4c02-afe7-6fb91ca0e3ae",
   "metadata": {},
   "outputs": [
    {
     "name": "stdout",
     "output_type": "stream",
     "text": [
      "3.13.3 (tags/v3.13.3:6280bb5, Apr  8 2025, 14:47:33) [MSC v.1943 64 bit (AMD64)]\n"
     ]
    }
   ],
   "source": [
    "import sys\n",
    "print(sys.version)"
   ]
  },
  {
   "cell_type": "markdown",
   "id": "8ff73796-8eb9-4ba5-a830-c6287a332319",
   "metadata": {},
   "source": [
    "Python Indentation"
   ]
  },
  {
   "cell_type": "code",
   "execution_count": 5,
   "id": "3930677d-3cf4-49d0-904e-67515c0f4347",
   "metadata": {},
   "outputs": [
    {
     "name": "stdout",
     "output_type": "stream",
     "text": [
      "Five is greter than two!\n"
     ]
    }
   ],
   "source": [
    "#Indentation refers to the spaces at the beginning of a code line.\n",
    "#Python uses indentation to indicate a block of code.\n",
    "\n",
    "if 5 > 2:\n",
    "    print(\"Five is greter than two!\")"
   ]
  },
  {
   "cell_type": "code",
   "execution_count": 6,
   "id": "3193bfc5-3bde-48d4-bd11-cd4d771b841c",
   "metadata": {},
   "outputs": [
    {
     "ename": "IndentationError",
     "evalue": "expected an indented block after 'if' statement on line 2 (558599107.py, line 3)",
     "output_type": "error",
     "traceback": [
      "  \u001b[36mCell\u001b[39m\u001b[36m \u001b[39m\u001b[32mIn[6]\u001b[39m\u001b[32m, line 3\u001b[39m\n\u001b[31m    \u001b[39m\u001b[31mprint(\"Five is greter than two!\")\u001b[39m\n    ^\n\u001b[31mIndentationError\u001b[39m\u001b[31m:\u001b[39m expected an indented block after 'if' statement on line 2\n"
     ]
    }
   ],
   "source": [
    "#Python will give you an error if you skip the indentation\n",
    "if 5 > 2:\n",
    "print(\"Five is greter than two!\")"
   ]
  },
  {
   "cell_type": "markdown",
   "id": "885657ed-197d-438f-ae52-4bd5220cbd62",
   "metadata": {},
   "source": [
    "Python Comments"
   ]
  },
  {
   "cell_type": "code",
   "execution_count": 7,
   "id": "ff89f733-e942-43e2-8bf5-4e59c4c59045",
   "metadata": {},
   "outputs": [],
   "source": [
    "# This is Single line comments"
   ]
  },
  {
   "cell_type": "code",
   "execution_count": 8,
   "id": "4fc2ebb9-a667-4132-84f5-f2e535e33176",
   "metadata": {},
   "outputs": [
    {
     "name": "stdout",
     "output_type": "stream",
     "text": [
      "Hello World\n"
     ]
    }
   ],
   "source": [
    "#Multiline Comments\n",
    "\"\"\"\n",
    "This is a comment\n",
    "written in\n",
    "more than just one line\n",
    "\"\"\"\n",
    "print(\"Hello World\")"
   ]
  },
  {
   "cell_type": "code",
   "execution_count": null,
   "id": "17afd6d9-4f01-48d6-add3-8766472f62c5",
   "metadata": {},
   "outputs": [],
   "source": []
  }
 ],
 "metadata": {
  "kernelspec": {
   "display_name": "Python 3 (ipykernel)",
   "language": "python",
   "name": "python3"
  },
  "language_info": {
   "codemirror_mode": {
    "name": "ipython",
    "version": 3
   },
   "file_extension": ".py",
   "mimetype": "text/x-python",
   "name": "python",
   "nbconvert_exporter": "python",
   "pygments_lexer": "ipython3",
   "version": "3.13.3"
  },
  "widgets": {
   "application/vnd.jupyter.widget-state+json": {
    "state": {},
    "version_major": 2,
    "version_minor": 0
   }
  }
 },
 "nbformat": 4,
 "nbformat_minor": 5
}
