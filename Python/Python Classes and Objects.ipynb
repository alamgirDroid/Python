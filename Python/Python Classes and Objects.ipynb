{
 "cells": [
  {
   "cell_type": "code",
   "execution_count": 1,
   "id": "aa3e02c7-5822-4656-af51-c41edaef5a45",
   "metadata": {},
   "outputs": [
    {
     "name": "stdout",
     "output_type": "stream",
     "text": [
      "<class '__main__.MyClass'>\n"
     ]
    }
   ],
   "source": [
    "#Create a class named MyClass, with a property named x\n",
    "class MyClass:\n",
    "  x = 5\n",
    "\n",
    "print(MyClass)"
   ]
  },
  {
   "cell_type": "code",
   "execution_count": 2,
   "id": "281bbe8c-05f6-4461-adda-c18a0199508b",
   "metadata": {},
   "outputs": [
    {
     "name": "stdout",
     "output_type": "stream",
     "text": [
      "5\n"
     ]
    }
   ],
   "source": [
    "#Create an object named p1, and print the value of x\n",
    "class MyClass:\n",
    "  x = 5\n",
    "\n",
    "p1 = MyClass()\n",
    "print(p1.x)\n"
   ]
  },
  {
   "cell_type": "code",
   "execution_count": 4,
   "id": "cc715251-e1b4-4a55-b4c5-316c9d287c27",
   "metadata": {},
   "outputs": [
    {
     "name": "stdout",
     "output_type": "stream",
     "text": [
      "Alamgir\n",
      "27\n"
     ]
    }
   ],
   "source": [
    "#Create a class named Person, use the __init__() function to assign values for name and age\n",
    "class Person:\n",
    "  def __init__(self, name, age):\n",
    "    self.name = name\n",
    "    self.age = age\n",
    "\n",
    "p1 = Person(\"Alamgir\", 27)\n",
    "\n",
    "print(p1.name)\n",
    "print(p1.age)"
   ]
  },
  {
   "cell_type": "code",
   "execution_count": 5,
   "id": "597a3548-fed2-47c8-87c1-988e193c79c9",
   "metadata": {},
   "outputs": [
    {
     "name": "stdout",
     "output_type": "stream",
     "text": [
      "<__main__.Person object at 0x00000268B27342F0>\n"
     ]
    }
   ],
   "source": [
    "#The string representation of an object WITHOUT the __str__() function\n",
    "class Person:\n",
    "  def __init__(self, name, age):\n",
    "    self.name = name\n",
    "    self.age = age\n",
    "\n",
    "p1 = Person(\"John\", 36)\n",
    "\n",
    "print(p1)"
   ]
  },
  {
   "cell_type": "code",
   "execution_count": 6,
   "id": "4eeee465-78c4-4243-b649-2860c5d87f6c",
   "metadata": {},
   "outputs": [
    {
     "name": "stdout",
     "output_type": "stream",
     "text": [
      "Alamgir(27)\n"
     ]
    }
   ],
   "source": [
    "#The string representation of an object WITH the __str__() function\n",
    "class Person:\n",
    "  def __init__(self, name, age):\n",
    "    self.name = name\n",
    "    self.age = age\n",
    "\n",
    "  def __str__(self):\n",
    "    return f\"{self.name}({self.age})\"\n",
    "\n",
    "p1 = Person(\"Alamgir\", 27)\n",
    "\n",
    "print(p1)"
   ]
  },
  {
   "cell_type": "code",
   "execution_count": null,
   "id": "8fc14f2d-b416-4040-af67-5b2df08c6027",
   "metadata": {},
   "outputs": [],
   "source": []
  },
  {
   "cell_type": "markdown",
   "id": "bde1491b-3600-4f63-bd17-24ff701af771",
   "metadata": {},
   "source": [
    "Object Methods"
   ]
  },
  {
   "cell_type": "code",
   "execution_count": 7,
   "id": "de712f0f-f400-42dc-ad47-a725d674e4e9",
   "metadata": {},
   "outputs": [
    {
     "name": "stdout",
     "output_type": "stream",
     "text": [
      "Hello my name is Alamgir\n"
     ]
    }
   ],
   "source": [
    "#Insert a function that prints a greeting, and execute it on the p1 object\n",
    "class Person:\n",
    "  def __init__(self, name, age):\n",
    "    self.name = name\n",
    "    self.age = age\n",
    "\n",
    "  def myfunc(self):\n",
    "    print(\"Hello my name is \" + self.name)\n",
    "\n",
    "p1 = Person(\"Alamgir\", 27)\n",
    "p1.myfunc()"
   ]
  },
  {
   "cell_type": "code",
   "execution_count": 8,
   "id": "dd9de732-c478-4f8c-8949-ca62e120b584",
   "metadata": {},
   "outputs": [
    {
     "name": "stdout",
     "output_type": "stream",
     "text": [
      "28\n"
     ]
    }
   ],
   "source": [
    "#Set the age of p1 to 40\n",
    "class Person:\n",
    "  def __init__(self, name, age):\n",
    "    self.name = name\n",
    "    self.age = age\n",
    "\n",
    "  def myfunc(self):\n",
    "    print(\"Hello my name is \" + self.name)\n",
    "\n",
    "p1 = Person(\"Alamgir\", 27)\n",
    "\n",
    "p1.age = 28\n",
    "\n",
    "print(p1.age)\n"
   ]
  },
  {
   "cell_type": "code",
   "execution_count": null,
   "id": "62b626e3-fbd5-479d-bc51-32b3fcf64161",
   "metadata": {},
   "outputs": [],
   "source": []
  }
 ],
 "metadata": {
  "kernelspec": {
   "display_name": "Python 3 (ipykernel)",
   "language": "python",
   "name": "python3"
  },
  "language_info": {
   "codemirror_mode": {
    "name": "ipython",
    "version": 3
   },
   "file_extension": ".py",
   "mimetype": "text/x-python",
   "name": "python",
   "nbconvert_exporter": "python",
   "pygments_lexer": "ipython3",
   "version": "3.13.3"
  },
  "widgets": {
   "application/vnd.jupyter.widget-state+json": {
    "state": {},
    "version_major": 2,
    "version_minor": 0
   }
  }
 },
 "nbformat": 4,
 "nbformat_minor": 5
}
