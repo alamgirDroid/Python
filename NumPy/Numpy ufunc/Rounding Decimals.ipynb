{
 "cells": [
  {
   "cell_type": "markdown",
   "id": "265a8299-1d12-4cff-8ec5-954d437d5112",
   "metadata": {},
   "source": [
    "Truncation\n",
    "\n",
    "*Remove the decimals, and return the float number closest to zero. Use the trunc() and fix() functions."
   ]
  },
  {
   "cell_type": "code",
   "execution_count": 1,
   "id": "80a793cd-5875-4957-bb55-1ad906f67bab",
   "metadata": {},
   "outputs": [
    {
     "name": "stdout",
     "output_type": "stream",
     "text": [
      "[-3.  3.]\n"
     ]
    }
   ],
   "source": [
    "#Truncate elements of following array\n",
    "import numpy as np\n",
    "\n",
    "arr = np.trunc([-3.1666, 3.6667])\n",
    "\n",
    "print(arr)"
   ]
  },
  {
   "cell_type": "code",
   "execution_count": 2,
   "id": "199f17ef-2d1d-4950-b65e-3974beb91f03",
   "metadata": {},
   "outputs": [
    {
     "name": "stdout",
     "output_type": "stream",
     "text": [
      "[-3.  3.]\n"
     ]
    }
   ],
   "source": [
    "#Same example, using fix()\n",
    "import numpy as np\n",
    "\n",
    "arr = np.fix([-3.1666, 3.6667])\n",
    "\n",
    "print(arr)"
   ]
  },
  {
   "cell_type": "markdown",
   "id": "2ba2589d-b80f-4674-84e5-afc414bb84c2",
   "metadata": {},
   "source": [
    "Rounding\n",
    "\n",
    "*The around() function increments preceding digit or decimal by 1 if >=5 else do nothing.\n",
    "\n",
    "*E.g. round off to 1 decimal point, 3.16666 is 3.2"
   ]
  },
  {
   "cell_type": "code",
   "execution_count": 3,
   "id": "2af97414-e87c-4780-9eca-9e6042d985d2",
   "metadata": {},
   "outputs": [
    {
     "name": "stdout",
     "output_type": "stream",
     "text": [
      "3.17\n"
     ]
    }
   ],
   "source": [
    "#Round off 3.1666 to 2 decimal places:\n",
    "\n",
    "import numpy as np\n",
    "\n",
    "arr = np.around(3.1666, 2)\n",
    "\n",
    "print(arr)"
   ]
  },
  {
   "cell_type": "markdown",
   "id": "e4bff96f-02b8-4df7-9396-3bad261aee8c",
   "metadata": {},
   "source": [
    "Floor\n",
    "\n",
    "*The floor() function rounds off decimal to nearest lower integer.\n",
    "\n",
    "*E.g. floor of 3.166 is 3."
   ]
  },
  {
   "cell_type": "code",
   "execution_count": 4,
   "id": "014f896b-8fb1-41d2-b950-9daf5dbbf551",
   "metadata": {},
   "outputs": [
    {
     "name": "stdout",
     "output_type": "stream",
     "text": [
      "[-4.  3.]\n"
     ]
    }
   ],
   "source": [
    "#Floor the elements of following array:\n",
    "\n",
    "import numpy as np\n",
    "\n",
    "arr = np.floor([-3.1666, 3.6667])\n",
    "\n",
    "print(arr)"
   ]
  },
  {
   "cell_type": "markdown",
   "id": "8b63dd6e-dd94-46e4-bef4-59d89b680c8e",
   "metadata": {},
   "source": [
    "Ceil\n",
    "\n",
    "*The ceil() function rounds off decimal to nearest upper integer.\n",
    "\n",
    "*E.g. ceil of 3.166 is 4."
   ]
  },
  {
   "cell_type": "code",
   "execution_count": 5,
   "id": "3913a61b-3f8e-44ef-bed9-6dccdd0c4f1c",
   "metadata": {},
   "outputs": [
    {
     "name": "stdout",
     "output_type": "stream",
     "text": [
      "[-3.  4.]\n"
     ]
    }
   ],
   "source": [
    "#Ceil the elements of following array:\n",
    "\n",
    "import numpy as np\n",
    "\n",
    "arr = np.ceil([-3.1666, 3.6667])\n",
    "\n",
    "print(arr)"
   ]
  },
  {
   "cell_type": "code",
   "execution_count": null,
   "id": "aa1b75f1-5a78-486e-b835-07c569d838b9",
   "metadata": {},
   "outputs": [],
   "source": []
  }
 ],
 "metadata": {
  "kernelspec": {
   "display_name": "Python 3 (ipykernel)",
   "language": "python",
   "name": "python3"
  },
  "language_info": {
   "codemirror_mode": {
    "name": "ipython",
    "version": 3
   },
   "file_extension": ".py",
   "mimetype": "text/x-python",
   "name": "python",
   "nbconvert_exporter": "python",
   "pygments_lexer": "ipython3",
   "version": "3.13.3"
  },
  "widgets": {
   "application/vnd.jupyter.widget-state+json": {
    "state": {},
    "version_major": 2,
    "version_minor": 0
   }
  }
 },
 "nbformat": 4,
 "nbformat_minor": 5
}
