{
 "cells": [
  {
   "cell_type": "markdown",
   "id": "d41daed5-93a0-411a-9f09-f6041d3e2870",
   "metadata": {},
   "source": [
    "To create your own ufunc, you have to define a function, like you do with normal functions in Python, then you add it to your NumPy ufunc library with the frompyfunc() method.\n",
    "\n",
    "The frompyfunc() method takes the following arguments:\n",
    "\n",
    "*function - the name of the function.\n",
    "\n",
    "*inputs - the number of input arguments (arrays).\n",
    "\n",
    "*outputs - the number of output arrays."
   ]
  },
  {
   "cell_type": "code",
   "execution_count": 1,
   "id": "7ed11856-1566-40a1-ab80-9eeb2bf37bd6",
   "metadata": {},
   "outputs": [
    {
     "name": "stdout",
     "output_type": "stream",
     "text": [
      "[6 8 10 12]\n"
     ]
    }
   ],
   "source": [
    "#Create your own ufunc for addition\n",
    "import numpy as np\n",
    "def myadd(x, y):\n",
    "    return x+y\n",
    "myadd = np.frompyfunc(myadd, 2, 1)\n",
    "print(myadd([1, 2, 3, 4], [5, 6, 7, 8]))"
   ]
  },
  {
   "cell_type": "code",
   "execution_count": 2,
   "id": "32e9efd1-302e-40a0-8ab6-2049f0cb955c",
   "metadata": {},
   "outputs": [
    {
     "name": "stdout",
     "output_type": "stream",
     "text": [
      "add is ufunc\n"
     ]
    }
   ],
   "source": [
    "#Use an if statement to check if the function is a ufunc or not\n",
    "import numpy as np\n",
    "\n",
    "if type(np.add) == np.ufunc:\n",
    "  print('add is ufunc')\n",
    "else:\n",
    "  print('add is not ufunc')"
   ]
  },
  {
   "cell_type": "code",
   "execution_count": null,
   "id": "b58775cb-fd55-428b-adbb-b62e4a347c6e",
   "metadata": {},
   "outputs": [],
   "source": []
  }
 ],
 "metadata": {
  "kernelspec": {
   "display_name": "Python 3 (ipykernel)",
   "language": "python",
   "name": "python3"
  },
  "language_info": {
   "codemirror_mode": {
    "name": "ipython",
    "version": 3
   },
   "file_extension": ".py",
   "mimetype": "text/x-python",
   "name": "python",
   "nbconvert_exporter": "python",
   "pygments_lexer": "ipython3",
   "version": "3.13.3"
  },
  "widgets": {
   "application/vnd.jupyter.widget-state+json": {
    "state": {},
    "version_major": 2,
    "version_minor": 0
   }
  }
 },
 "nbformat": 4,
 "nbformat_minor": 5
}
