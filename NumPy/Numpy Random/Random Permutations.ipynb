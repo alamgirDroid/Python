{
 "cells": [
  {
   "cell_type": "markdown",
   "id": "0e99b469-80cf-438e-a3da-0e6efe2a8070",
   "metadata": {},
   "source": [
    "Random Permutations of Elements\n",
    "\n",
    "*A permutation refers to an arrangement of elements. e.g. [3, 2, 1] is a permutation of [1, 2, 3] and vice-versa.\n",
    "\n",
    "*The NumPy Random module provides two methods for this: shuffle() and permutation()."
   ]
  },
  {
   "cell_type": "code",
   "execution_count": null,
   "id": "107136d7-ba6b-418a-92da-b6e503e75927",
   "metadata": {},
   "outputs": [],
   "source": []
  },
  {
   "cell_type": "markdown",
   "id": "49ffcbf0-6d2c-4219-a397-ee9a32dbe5ae",
   "metadata": {},
   "source": [
    "Shuffling Arrays\n",
    "\n",
    "*Shuffle means changing arrangement of elements in-place. i.e. in the array itself."
   ]
  },
  {
   "cell_type": "code",
   "execution_count": 2,
   "id": "b919449f-9116-4d7d-a493-b7913468221e",
   "metadata": {},
   "outputs": [
    {
     "name": "stdout",
     "output_type": "stream",
     "text": [
      "[2 4 3 5 1]\n"
     ]
    }
   ],
   "source": [
    "#Randomly shuffle elements of following array\n",
    "from numpy import random\n",
    "import numpy as np\n",
    "arr = np.array([1, 2, 3, 4, 5])\n",
    "\n",
    "random.shuffle(arr)\n",
    "\n",
    "print(arr)"
   ]
  },
  {
   "cell_type": "markdown",
   "id": "91dd06ad-dcab-45ce-99c7-0e898e9ad30d",
   "metadata": {},
   "source": [
    "Generating Permutation of Arrays"
   ]
  },
  {
   "cell_type": "code",
   "execution_count": 4,
   "id": "f6654cd7-6f78-4ab7-b458-4906ea869665",
   "metadata": {},
   "outputs": [
    {
     "name": "stdout",
     "output_type": "stream",
     "text": [
      "[2 3 1 5 4]\n"
     ]
    }
   ],
   "source": [
    "#Generate a random permutation of elements of following array\n",
    "from numpy import random\n",
    "import numpy as np\n",
    "arr = np.array([1, 2, 3, 4, 5])\n",
    "\n",
    "print(random.permutation(arr))"
   ]
  },
  {
   "cell_type": "code",
   "execution_count": null,
   "id": "0026c9f5-7cfd-45b7-8391-05a98a6c0542",
   "metadata": {},
   "outputs": [],
   "source": []
  }
 ],
 "metadata": {
  "kernelspec": {
   "display_name": "Python 3 (ipykernel)",
   "language": "python",
   "name": "python3"
  },
  "language_info": {
   "codemirror_mode": {
    "name": "ipython",
    "version": 3
   },
   "file_extension": ".py",
   "mimetype": "text/x-python",
   "name": "python",
   "nbconvert_exporter": "python",
   "pygments_lexer": "ipython3",
   "version": "3.13.3"
  },
  "widgets": {
   "application/vnd.jupyter.widget-state+json": {
    "state": {},
    "version_major": 2,
    "version_minor": 0
   }
  }
 },
 "nbformat": 4,
 "nbformat_minor": 5
}
