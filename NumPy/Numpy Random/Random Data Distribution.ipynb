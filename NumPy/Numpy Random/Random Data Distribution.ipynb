{
 "cells": [
  {
   "cell_type": "markdown",
   "id": "b7725b2e-55c9-41cc-8b6f-6880373f7ae6",
   "metadata": {},
   "source": [
    "What is Data Distribution\n",
    "\n",
    "*Data Distribution is a list of all possible values, and how often each value occurs.\n",
    "\n",
    "*Such lists are important when working with statistics and data science.\n",
    "\n",
    "*The random module offer methods that returns randomly generated data distributions."
   ]
  },
  {
   "cell_type": "code",
   "execution_count": 1,
   "id": "05a95d1f-2a25-4c3d-b0d3-9aa053806237",
   "metadata": {},
   "outputs": [
    {
     "name": "stdout",
     "output_type": "stream",
     "text": [
      "[7 5 7 7 3 7 7 7 3 3 7 5 5 7 7 7 7 3 7 5 7 7 7 5 7 5 5 7 7 5 5 3 7 5 7 5 5\n",
      " 7 7 3 7 7 3 5 7 3 5 7 7 7 5 7 7 5 5 7 7 7 3 7 7 7 7 3 7 7 5 5 5 7 7 7 7 7\n",
      " 7 7 7 3 5 7 5 5 7 7 7 7 3 7 7 3 7 7 7 3 7 7 7 7 7 7]\n"
     ]
    }
   ],
   "source": [
    "#Generate a 1-D array containing 100 values, where each value has to be 3, 5, 7 or 9.\n",
    "\n",
    "#The probability for the value to be 3 is set to be 0.1\n",
    "\n",
    "#The probability for the value to be 5 is set to be 0.3\n",
    "\n",
    "#The probability for the value to be 7 is set to be 0.6\n",
    "\n",
    "#The probability for the value to be 9 is set to be 0\n",
    "from numpy import random\n",
    "x = random.choice([3, 5, 7, 9], p=[0.1, 0.3, 0.6, 0.0], size=(100))\n",
    "print(x)"
   ]
  },
  {
   "cell_type": "code",
   "execution_count": 2,
   "id": "8d6b1dde-915e-44e7-af39-3eed25dbf6fc",
   "metadata": {},
   "outputs": [
    {
     "name": "stdout",
     "output_type": "stream",
     "text": [
      "[[7 5 7 5 7]\n",
      " [7 5 7 5 7]\n",
      " [7 7 5 7 5]]\n"
     ]
    }
   ],
   "source": [
    "#Same example as above, but return a 2-D array with 3 rows, each containing 5 values\n",
    "from numpy import random\n",
    "x = random.choice([3, 5, 7, 9], p=[0.1, 0.3, 0.6, 0.0], size=(3, 5))\n",
    "print(x)"
   ]
  },
  {
   "cell_type": "code",
   "execution_count": null,
   "id": "3d7c0bfe-583f-4433-a439-3d9b33aeda26",
   "metadata": {},
   "outputs": [],
   "source": []
  }
 ],
 "metadata": {
  "kernelspec": {
   "display_name": "Python 3 (ipykernel)",
   "language": "python",
   "name": "python3"
  },
  "language_info": {
   "codemirror_mode": {
    "name": "ipython",
    "version": 3
   },
   "file_extension": ".py",
   "mimetype": "text/x-python",
   "name": "python",
   "nbconvert_exporter": "python",
   "pygments_lexer": "ipython3",
   "version": "3.13.3"
  },
  "widgets": {
   "application/vnd.jupyter.widget-state+json": {
    "state": {},
    "version_major": 2,
    "version_minor": 0
   }
  }
 },
 "nbformat": 4,
 "nbformat_minor": 5
}
