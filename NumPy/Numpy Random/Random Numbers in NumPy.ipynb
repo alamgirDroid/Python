{
 "cells": [
  {
   "cell_type": "markdown",
   "id": "0ba8197a-87f5-4fbb-840c-66ca1ca288b4",
   "metadata": {},
   "source": [
    "Generate Random Number"
   ]
  },
  {
   "cell_type": "code",
   "execution_count": 2,
   "id": "a3950538-399e-4b25-b577-06700a5ac341",
   "metadata": {},
   "outputs": [
    {
     "name": "stdout",
     "output_type": "stream",
     "text": [
      "92\n"
     ]
    }
   ],
   "source": [
    "#Generate a random integer from 0 to 100\n",
    "from numpy import random\n",
    "x = random.randint(100)\n",
    "print(x)"
   ]
  },
  {
   "cell_type": "markdown",
   "id": "efafe0e3-bfb0-48db-9daf-dbf5d4373092",
   "metadata": {},
   "source": [
    "Generate Random Float\n",
    "\n",
    "*The random module's rand() method returns a random float between 0 and 1."
   ]
  },
  {
   "cell_type": "code",
   "execution_count": 4,
   "id": "e58cb324-ea96-4121-ada6-d2497d06f962",
   "metadata": {},
   "outputs": [
    {
     "name": "stdout",
     "output_type": "stream",
     "text": [
      "0.887879448494815\n"
     ]
    }
   ],
   "source": [
    "#Generate a random float from 0 to 1\n",
    "from numpy import random\n",
    "x = random.rand()\n",
    "print(x)"
   ]
  },
  {
   "cell_type": "markdown",
   "id": "8f0997bd-c80e-48e9-91f9-3d9b4d052d41",
   "metadata": {},
   "source": [
    "Generate Random Array"
   ]
  },
  {
   "cell_type": "code",
   "execution_count": 8,
   "id": "62b8bfb2-f6ba-42eb-b4a9-fba958864d07",
   "metadata": {},
   "outputs": [
    {
     "name": "stdout",
     "output_type": "stream",
     "text": [
      "[95  8 35 98 26 27 22]\n"
     ]
    }
   ],
   "source": [
    "#Generate a 1-D array containing 5 random integers from 0 to 100\n",
    "from numpy import random\n",
    "x = random.randint(100, size=(7))\n",
    "print(x)"
   ]
  },
  {
   "cell_type": "code",
   "execution_count": 9,
   "id": "56a9cb8e-50ef-431f-992d-b0d18c04d18d",
   "metadata": {},
   "outputs": [
    {
     "name": "stdout",
     "output_type": "stream",
     "text": [
      "[[80 44 34  6 49]\n",
      " [51 36 19 41 74]\n",
      " [65 93 57 24 21]]\n"
     ]
    }
   ],
   "source": [
    "#Generate a 2-D array with 3 rows, each row containing 5 random integers from 0 to 100\n",
    "from numpy import random\n",
    "x = random.randint(100, size=(3, 5))\n",
    "print(x)"
   ]
  },
  {
   "cell_type": "markdown",
   "id": "9757b7a4-0e17-4e69-8fc2-5e2268e1104d",
   "metadata": {},
   "source": [
    "Floats\n",
    "\n",
    "*The rand() method also allows you to specify the shape of the array"
   ]
  },
  {
   "cell_type": "code",
   "execution_count": 10,
   "id": "44a95b31-4f85-4462-ba83-fcdee800b161",
   "metadata": {},
   "outputs": [
    {
     "name": "stdout",
     "output_type": "stream",
     "text": [
      "[0.09311183 0.05946631 0.4947171  0.78496634 0.991835  ]\n"
     ]
    }
   ],
   "source": [
    "#Generate a 1-D array containing 5 random floats\n",
    "from numpy import random\n",
    "x = random.rand(5)\n",
    "print(x)"
   ]
  },
  {
   "cell_type": "code",
   "execution_count": 11,
   "id": "d5bd89cc-2839-42d5-986c-87b28a6b3cc8",
   "metadata": {},
   "outputs": [
    {
     "name": "stdout",
     "output_type": "stream",
     "text": [
      "[[0.60708859 0.05581995 0.53457534 0.01918708 0.07627479]\n",
      " [0.68395551 0.96250134 0.51918301 0.91100058 0.80910795]\n",
      " [0.73745086 0.78506403 0.24519226 0.63464387 0.05103786]]\n"
     ]
    }
   ],
   "source": [
    "#Generate a 2-D array with 3 rows, each row containing 5 random numbers\n",
    "from numpy import random\n",
    "x = random.rand(3, 5)\n",
    "print(x)"
   ]
  },
  {
   "cell_type": "markdown",
   "id": "8c00dde6-c855-42eb-9d7a-e469f78368a9",
   "metadata": {},
   "source": [
    "Generate Random Number From Array\n",
    "\n",
    "*The choice() method allows you to generate a random value based on an array of values.\n",
    "\n",
    "*The choice() method takes an array as a parameter and randomly returns one of the values."
   ]
  },
  {
   "cell_type": "code",
   "execution_count": 13,
   "id": "b4498ef2-4417-4a7c-9549-e72f4afeaa51",
   "metadata": {},
   "outputs": [
    {
     "name": "stdout",
     "output_type": "stream",
     "text": [
      "7\n"
     ]
    }
   ],
   "source": [
    "#Return one of the values in an array\n",
    "from numpy import random\n",
    "x = random.choice([3, 5, 7, 9])\n",
    "print(x)"
   ]
  },
  {
   "cell_type": "code",
   "execution_count": 14,
   "id": "8d03e9c6-5fe5-4ed3-a7c0-22e74bb3a3e4",
   "metadata": {},
   "outputs": [
    {
     "name": "stdout",
     "output_type": "stream",
     "text": [
      "[[9 7 5 5 7]\n",
      " [7 7 9 5 3]\n",
      " [9 5 9 5 5]]\n"
     ]
    }
   ],
   "source": [
    "#Generate a 2-D array that consists of the values in the array parameter (3, 5, 7, and 9)\n",
    "from numpy import random\n",
    "x = random.choice([3, 5, 7, 9], size=(3, 5))\n",
    "print(x)"
   ]
  },
  {
   "cell_type": "code",
   "execution_count": null,
   "id": "d6d2169c-cac2-4054-9de7-c8fd7f388596",
   "metadata": {},
   "outputs": [],
   "source": []
  }
 ],
 "metadata": {
  "kernelspec": {
   "display_name": "Python 3 (ipykernel)",
   "language": "python",
   "name": "python3"
  },
  "language_info": {
   "codemirror_mode": {
    "name": "ipython",
    "version": 3
   },
   "file_extension": ".py",
   "mimetype": "text/x-python",
   "name": "python",
   "nbconvert_exporter": "python",
   "pygments_lexer": "ipython3",
   "version": "3.13.3"
  },
  "widgets": {
   "application/vnd.jupyter.widget-state+json": {
    "state": {},
    "version_major": 2,
    "version_minor": 0
   }
  }
 },
 "nbformat": 4,
 "nbformat_minor": 5
}
