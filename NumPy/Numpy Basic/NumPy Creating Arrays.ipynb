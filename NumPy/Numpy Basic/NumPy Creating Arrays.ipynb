{
 "cells": [
  {
   "cell_type": "markdown",
   "id": "57abd4f4-e6ec-4f63-89bc-b42c2966b0a2",
   "metadata": {},
   "source": [
    "Create a NumPy ndarray Object\n",
    "\n",
    "*NumPy is used to work with arrays. The array object in NumPy is called ndarray.\n",
    "\n",
    "*We can create a NumPy ndarray object by using the array() function."
   ]
  },
  {
   "cell_type": "code",
   "execution_count": 1,
   "id": "07796621-1341-4b2e-beca-4af541a36b17",
   "metadata": {},
   "outputs": [
    {
     "name": "stdout",
     "output_type": "stream",
     "text": [
      "[1 2 3 4 5]\n",
      "<class 'numpy.ndarray'>\n"
     ]
    }
   ],
   "source": [
    "import numpy as np\n",
    "arr = np.array([1, 2, 3, 4, 5])\n",
    "print(arr)\n",
    "print(type(arr))"
   ]
  },
  {
   "cell_type": "code",
   "execution_count": 2,
   "id": "8c813f98-e259-4903-b70d-624bb337344b",
   "metadata": {},
   "outputs": [
    {
     "name": "stdout",
     "output_type": "stream",
     "text": [
      "[1 2 3 4 5]\n"
     ]
    }
   ],
   "source": [
    "#Use a tuple to create a NumPy array\n",
    "import numpy as np\n",
    "arr = np.array((1, 2, 3, 4, 5))\n",
    "print(arr)"
   ]
  },
  {
   "cell_type": "code",
   "execution_count": null,
   "id": "5bfc5d9c-ef4b-470a-a439-6638f63ca484",
   "metadata": {},
   "outputs": [],
   "source": []
  },
  {
   "cell_type": "markdown",
   "id": "e2984ad7-5402-43c7-a688-396a90b8b153",
   "metadata": {},
   "source": [
    "Dimensions in Arrays"
   ]
  },
  {
   "cell_type": "markdown",
   "id": "0134e1a3-78e0-4d53-9f0b-e9053174dc46",
   "metadata": {},
   "source": [
    "0-D Arrays\n",
    "\n",
    "*0-D arrays, or Scalars, are the elements in an array. Each value in an array is a 0-D array"
   ]
  },
  {
   "cell_type": "code",
   "execution_count": 3,
   "id": "b6593067-1eb9-4916-8eb8-20920e62f477",
   "metadata": {},
   "outputs": [
    {
     "name": "stdout",
     "output_type": "stream",
     "text": [
      "35\n"
     ]
    }
   ],
   "source": [
    "#Create a 0-D array with value 35\n",
    "import numpy as np\n",
    "arr = np.array(35)\n",
    "print(arr)"
   ]
  },
  {
   "cell_type": "markdown",
   "id": "56182fe4-d2b4-4d0a-80b5-e41313fa0ffb",
   "metadata": {},
   "source": [
    "1-D Arrays\n",
    "\n",
    "*An array that has 0-D arrays as its elements is called uni-dimensional or 1-D array.\n",
    "\n",
    "*These are the most common and basic arrays."
   ]
  },
  {
   "cell_type": "code",
   "execution_count": 4,
   "id": "c450f994-2927-47ec-a9bb-b85a73482d73",
   "metadata": {},
   "outputs": [
    {
     "name": "stdout",
     "output_type": "stream",
     "text": [
      "[1 2 3 4]\n"
     ]
    }
   ],
   "source": [
    "#Create a 1-D array containing the values 1,2,3,4,5\n",
    "import numpy as np\n",
    "arr = np.array([1, 2, 3, 4])\n",
    "print(arr)"
   ]
  },
  {
   "cell_type": "markdown",
   "id": "517a5cef-1c12-4e80-9105-0139d44d8a50",
   "metadata": {},
   "source": [
    "2-D Arrays\n",
    "\n",
    "*An array that has 1-D arrays as its elements is called a 2-D array.\n",
    "\n",
    "*These are often used to represent matrix or 2nd order tensors."
   ]
  },
  {
   "cell_type": "code",
   "execution_count": 5,
   "id": "81008e40-34c0-4a7b-b5ba-a0aee8a47460",
   "metadata": {},
   "outputs": [
    {
     "name": "stdout",
     "output_type": "stream",
     "text": [
      "[[1 2 3]\n",
      " [4 5 6]]\n"
     ]
    }
   ],
   "source": [
    "#Create a 2-D array containing two arrays with the values 1,2,3 and 4,5,6\n",
    "import numpy as np\n",
    "arr = np.array([[1, 2, 3], [4, 5, 6]])\n",
    "print(arr)"
   ]
  },
  {
   "cell_type": "markdown",
   "id": "cf761fbc-2caa-496a-bcaa-546356601dfb",
   "metadata": {},
   "source": [
    "3-D arrays\n",
    "\n",
    "*An array that has 2-D arrays (matrices) as its elements is called 3-D array.\n",
    "\n",
    "*These are often used to represent a 3rd order tensor."
   ]
  },
  {
   "cell_type": "code",
   "execution_count": 6,
   "id": "1091a09c-29ae-4847-bb81-f44d576c2407",
   "metadata": {},
   "outputs": [
    {
     "name": "stdout",
     "output_type": "stream",
     "text": [
      "[[[1 2 3]\n",
      "  [4 5 6]]\n",
      "\n",
      " [[1 2 3]\n",
      "  [4 5 6]]]\n"
     ]
    }
   ],
   "source": [
    "#Create a 3-D array with two 2-D arrays, both containing two arrays with the values 1,2,3 and 4,5,6\n",
    "import numpy as np\n",
    "arr = np.array([[[1, 2, 3,], [4, 5, 6]], [[1, 2, 3,], [4, 5, 6]]])\n",
    "print(arr)"
   ]
  },
  {
   "cell_type": "markdown",
   "id": "9c895d03-6f7a-4bf4-b14f-1670fa4a8ac7",
   "metadata": {},
   "source": [
    "Check Number of Dimensions\n",
    "\n",
    "*NumPy Arrays provides the ndim attribute that returns an integer that tells us how many dimensions the array have"
   ]
  },
  {
   "cell_type": "code",
   "execution_count": 9,
   "id": "7665364a-5f1c-4d70-9bcb-b037f76e6d1c",
   "metadata": {},
   "outputs": [
    {
     "name": "stdout",
     "output_type": "stream",
     "text": [
      "0\n",
      "1\n",
      "2\n",
      "3\n"
     ]
    }
   ],
   "source": [
    "#Check how many dimensions the arrays have\n",
    "import numpy as np\n",
    "\n",
    "a = np.array(42)\n",
    "b = np.array([1, 2, 3, 4])\n",
    "c = np.array([[1, 2, 3], [4, 5, 6]])\n",
    "d = np.array([[[1, 2, 3], [4, 5, 6]], [[1, 2, 3], [4, 5, 6]]])\n",
    "\n",
    "print(a.ndim)\n",
    "print(b.ndim)\n",
    "print(c.ndim)\n",
    "print(d.ndim)"
   ]
  },
  {
   "cell_type": "markdown",
   "id": "8d4d988d-7499-4775-ac82-5c6014eb55a2",
   "metadata": {},
   "source": [
    "Higher Dimensional Arrays\n",
    "\n",
    "*An array can have any number of dimensions.\n",
    "\n",
    "*When the array is created, you can define the number of dimensions by using the ndmin argument."
   ]
  },
  {
   "cell_type": "code",
   "execution_count": 10,
   "id": "85b3cbb7-96a0-4801-bfdd-d1ffee0d8ef9",
   "metadata": {},
   "outputs": [
    {
     "name": "stdout",
     "output_type": "stream",
     "text": [
      "[[[[[1 2 3 4]]]]]\n",
      "number of dimensions : 5\n"
     ]
    }
   ],
   "source": [
    "#Create an array with 5 dimensions and verify that it has 5 dimensions\n",
    "import numpy as np\n",
    "arr = np.array([1, 2, 3, 4], ndmin=5)\n",
    "print(arr)\n",
    "print('number of dimensions :', arr.ndim)"
   ]
  },
  {
   "cell_type": "code",
   "execution_count": null,
   "id": "ecbe4044-856d-4739-b3d4-f1d98ba921b5",
   "metadata": {},
   "outputs": [],
   "source": []
  }
 ],
 "metadata": {
  "kernelspec": {
   "display_name": "Python 3 (ipykernel)",
   "language": "python",
   "name": "python3"
  },
  "language_info": {
   "codemirror_mode": {
    "name": "ipython",
    "version": 3
   },
   "file_extension": ".py",
   "mimetype": "text/x-python",
   "name": "python",
   "nbconvert_exporter": "python",
   "pygments_lexer": "ipython3",
   "version": "3.13.3"
  },
  "widgets": {
   "application/vnd.jupyter.widget-state+json": {
    "state": {},
    "version_major": 2,
    "version_minor": 0
   }
  }
 },
 "nbformat": 4,
 "nbformat_minor": 5
}
