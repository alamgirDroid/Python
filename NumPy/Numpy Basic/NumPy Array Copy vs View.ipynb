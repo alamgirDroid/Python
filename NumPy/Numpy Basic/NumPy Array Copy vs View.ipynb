{
 "cells": [
  {
   "cell_type": "markdown",
   "id": "c27491a0-6a18-45f6-a08b-f7ec58d9bc0c",
   "metadata": {},
   "source": [
    "The Difference Between Copy and View\n",
    "\n",
    "*The main difference between a copy and a view of an array is that the copy is a new array, and the view is just a view of the original array.\n",
    "\n",
    "*The copy owns the data and any changes made to the copy will not affect original array, and any changes made to the original array \n",
    "will not affect the copy.\n",
    "\n",
    "*The view does not own the data and any changes made to the view will affect the original array, and any changes made to the original array \n",
    "will affect the view."
   ]
  },
  {
   "cell_type": "code",
   "execution_count": null,
   "id": "a1d6e723-def3-4c09-b56b-beb53d0f6824",
   "metadata": {},
   "outputs": [],
   "source": []
  },
  {
   "cell_type": "markdown",
   "id": "a0175dd4-57a5-4dd3-b94f-7194b274ea93",
   "metadata": {},
   "source": [
    "COPY"
   ]
  },
  {
   "cell_type": "code",
   "execution_count": 1,
   "id": "b965b5d3-8b90-4933-ac83-b706e04dcfd2",
   "metadata": {},
   "outputs": [
    {
     "name": "stdout",
     "output_type": "stream",
     "text": [
      "[42  2  3  4  5]\n",
      "[1 2 3 4 5]\n"
     ]
    }
   ],
   "source": [
    "#Make a copy, change the original array, and display both arrays\n",
    "import numpy as np\n",
    "arr = np.array([1, 2, 3, 4, 5])\n",
    "x = arr.copy()\n",
    "arr[0] = 42\n",
    "\n",
    "print(arr)\n",
    "print(x)"
   ]
  },
  {
   "cell_type": "markdown",
   "id": "aa9ebb99-e65a-4e73-a2b3-3b32cf0df9ff",
   "metadata": {},
   "source": [
    "VIEW"
   ]
  },
  {
   "cell_type": "code",
   "execution_count": 2,
   "id": "49f4e399-dc35-4056-9ea9-638b2e231c00",
   "metadata": {},
   "outputs": [
    {
     "name": "stdout",
     "output_type": "stream",
     "text": [
      "[42  2  3  4  5]\n",
      "[42  2  3  4  5]\n"
     ]
    }
   ],
   "source": [
    "#Make a view, change the original array, and display both arrays\n",
    "import numpy as np\n",
    "\n",
    "arr = np.array([1, 2, 3, 4, 5])\n",
    "x = arr.view()\n",
    "arr[0] = 42\n",
    "\n",
    "print(arr)\n",
    "print(x)"
   ]
  },
  {
   "cell_type": "code",
   "execution_count": 3,
   "id": "e6cff3ca-130e-444d-8824-cc688bf05fe1",
   "metadata": {},
   "outputs": [
    {
     "name": "stdout",
     "output_type": "stream",
     "text": [
      "None\n",
      "[1 2 3 4 5]\n"
     ]
    }
   ],
   "source": [
    "#Print the value of the base attribute to check if an array owns it's data or not\n",
    "import numpy as np\n",
    "arr = np.array([1, 2, 3, 4, 5])\n",
    "\n",
    "x = arr.copy()\n",
    "y = arr.view()\n",
    "\n",
    "print(x.base)\n",
    "print(y.base)"
   ]
  },
  {
   "cell_type": "code",
   "execution_count": null,
   "id": "7ea21238-ca36-4a1e-80b8-1bd57c62d165",
   "metadata": {},
   "outputs": [],
   "source": []
  }
 ],
 "metadata": {
  "kernelspec": {
   "display_name": "Python 3 (ipykernel)",
   "language": "python",
   "name": "python3"
  },
  "language_info": {
   "codemirror_mode": {
    "name": "ipython",
    "version": 3
   },
   "file_extension": ".py",
   "mimetype": "text/x-python",
   "name": "python",
   "nbconvert_exporter": "python",
   "pygments_lexer": "ipython3",
   "version": "3.13.3"
  },
  "widgets": {
   "application/vnd.jupyter.widget-state+json": {
    "state": {},
    "version_major": 2,
    "version_minor": 0
   }
  }
 },
 "nbformat": 4,
 "nbformat_minor": 5
}
