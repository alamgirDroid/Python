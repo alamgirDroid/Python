{
 "cells": [
  {
   "cell_type": "markdown",
   "id": "e6001719-f8a4-45d4-ae4d-089268a062f7",
   "metadata": {},
   "source": [
    "Searching Arrays\n",
    "\n",
    "*You can search an array for a certain value, and return the indexes that get a match.\n",
    "\n",
    "*To search an array, use the where() method."
   ]
  },
  {
   "cell_type": "code",
   "execution_count": 1,
   "id": "5b3e483c-01b6-4bb6-af6d-65f32dde0c2b",
   "metadata": {},
   "outputs": [
    {
     "name": "stdout",
     "output_type": "stream",
     "text": [
      "(array([3, 5, 6]),)\n"
     ]
    }
   ],
   "source": [
    "#Find the indexes where the value is 4\n",
    "import numpy as np\n",
    "arr = np.array([1, 2, 3, 4, 5, 4, 4])\n",
    "x = np.where(arr == 4)\n",
    "\n",
    "print(x)"
   ]
  },
  {
   "cell_type": "code",
   "execution_count": 2,
   "id": "f8c33db3-42c4-47c9-a9e8-20f4001973b7",
   "metadata": {},
   "outputs": [
    {
     "name": "stdout",
     "output_type": "stream",
     "text": [
      "(array([1, 3, 5, 7]),)\n"
     ]
    }
   ],
   "source": [
    "#Find the indexes where the values are even\n",
    "import numpy as np\n",
    "arr = np.array([1, 2, 3, 4, 5, 6, 7, 8])\n",
    "x = np.where(arr%2 == 0)\n",
    "\n",
    "print(x)"
   ]
  },
  {
   "cell_type": "code",
   "execution_count": 3,
   "id": "f0abc591-1a6b-4089-ac6b-0b5aad2ea374",
   "metadata": {},
   "outputs": [
    {
     "name": "stdout",
     "output_type": "stream",
     "text": [
      "(array([0, 2, 4, 6]),)\n"
     ]
    }
   ],
   "source": [
    "#Find the indexes where the values are odd\n",
    "import numpy as np\n",
    "arr = np.array([1, 2, 3, 4, 5, 6, 7, 8])\n",
    "x = np.where(arr%2 == 1)\n",
    "\n",
    "print(x)"
   ]
  },
  {
   "cell_type": "markdown",
   "id": "43ce720b-6fa6-4d16-b0fd-2e0f761bfe25",
   "metadata": {},
   "source": [
    "Search Sorted\n",
    "\n",
    "*There is a method called searchsorted() which performs a binary search in the array, and returns the index where the specified value would be \n",
    "inserted to maintain the search order.\n",
    "\n",
    "*The searchsorted() method is assumed to be used on sorted arrays."
   ]
  },
  {
   "cell_type": "code",
   "execution_count": 4,
   "id": "1682912d-5a8a-4d6f-a1ac-12f286ed04b1",
   "metadata": {},
   "outputs": [
    {
     "name": "stdout",
     "output_type": "stream",
     "text": [
      "1\n"
     ]
    }
   ],
   "source": [
    "#Find the indexes where the value 7 should be inserted\n",
    "import numpy as np\n",
    "arr = np.array([6, 7, 8, 9])\n",
    "x = np.searchsorted(arr, 7)\n",
    "\n",
    "print(x)"
   ]
  },
  {
   "cell_type": "code",
   "execution_count": 5,
   "id": "2c805c8d-a6eb-477f-a191-555ea23b06ac",
   "metadata": {},
   "outputs": [
    {
     "name": "stdout",
     "output_type": "stream",
     "text": [
      "2\n"
     ]
    }
   ],
   "source": [
    "#Find the indexes where the value 7 should be inserted, starting from the right\n",
    "import numpy as np\n",
    "arr = np.array([6, 7, 8, 9])\n",
    "x = np.searchsorted(arr, 7, side='right')\n",
    "\n",
    "print(x)"
   ]
  },
  {
   "cell_type": "markdown",
   "id": "37f58fb0-b51c-4404-96a2-218f06571b80",
   "metadata": {},
   "source": [
    "Multiple Values"
   ]
  },
  {
   "cell_type": "code",
   "execution_count": 6,
   "id": "7db0608d-d062-41c5-961a-09e6d91e600b",
   "metadata": {},
   "outputs": [
    {
     "name": "stdout",
     "output_type": "stream",
     "text": [
      "[1 2 3]\n"
     ]
    }
   ],
   "source": [
    "#Find the indexes where the values 2, 4, and 6 should be inserted\n",
    "import numpy as np\n",
    "arr = np.array([1, 3, 5, 7])\n",
    "x = np.searchsorted(arr, [2, 4, 6])\n",
    "\n",
    "print(x)"
   ]
  },
  {
   "cell_type": "code",
   "execution_count": null,
   "id": "ded8f4e5-b0d2-464f-b099-03f7e4a7eed8",
   "metadata": {},
   "outputs": [],
   "source": []
  }
 ],
 "metadata": {
  "kernelspec": {
   "display_name": "Python 3 (ipykernel)",
   "language": "python",
   "name": "python3"
  },
  "language_info": {
   "codemirror_mode": {
    "name": "ipython",
    "version": 3
   },
   "file_extension": ".py",
   "mimetype": "text/x-python",
   "name": "python",
   "nbconvert_exporter": "python",
   "pygments_lexer": "ipython3",
   "version": "3.13.3"
  },
  "widgets": {
   "application/vnd.jupyter.widget-state+json": {
    "state": {},
    "version_major": 2,
    "version_minor": 0
   }
  }
 },
 "nbformat": 4,
 "nbformat_minor": 5
}
