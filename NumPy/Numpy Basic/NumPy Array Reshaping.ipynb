{
 "cells": [
  {
   "cell_type": "markdown",
   "id": "92c9a9a1-6fb9-47d5-8947-9ea6d90a1701",
   "metadata": {},
   "source": [
    "Reshaping arrays\n",
    "\n",
    "*Reshaping means changing the shape of an array.\n",
    "\n",
    "*The shape of an array is the number of elements in each dimension.\n",
    "\n",
    "*By reshaping we can add or remove dimensions or change number of elements in each dimension."
   ]
  },
  {
   "cell_type": "code",
   "execution_count": null,
   "id": "e58ec064-fcc1-4ef7-adb0-b92140cdb87d",
   "metadata": {},
   "outputs": [],
   "source": []
  },
  {
   "cell_type": "markdown",
   "id": "5755b7e6-4b43-4100-b72e-c239943902eb",
   "metadata": {},
   "source": [
    "Reshape From 1-D to 2-D"
   ]
  },
  {
   "cell_type": "code",
   "execution_count": 1,
   "id": "03fef971-8e5b-42d8-88ef-cd0244bc6081",
   "metadata": {},
   "outputs": [
    {
     "name": "stdout",
     "output_type": "stream",
     "text": [
      "[[ 1  2  3]\n",
      " [ 4  5  6]\n",
      " [ 7  8  9]\n",
      " [10 11 12]]\n"
     ]
    }
   ],
   "source": [
    "#Convert the following 1-D array with 12 elements into a 2-D array.\n",
    "#The outermost dimension will have 4 arrays, each with 3 elements\n",
    "import numpy as np\n",
    "arr = np.array([1, 2, 3, 4, 5, 6, 7, 8, 9, 10, 11, 12])\n",
    "newarr = arr.reshape(4, 3)\n",
    "print(newarr)"
   ]
  },
  {
   "cell_type": "code",
   "execution_count": null,
   "id": "b1d991c3-b393-422e-a3f4-ad673eac6700",
   "metadata": {},
   "outputs": [],
   "source": []
  },
  {
   "cell_type": "markdown",
   "id": "8bb4cecb-a7aa-4446-833e-58a744b4075c",
   "metadata": {},
   "source": [
    "Reshape From 1-D to 3-D"
   ]
  },
  {
   "cell_type": "code",
   "execution_count": 2,
   "id": "640324c8-68d7-4f15-b763-a433b24b0bb5",
   "metadata": {},
   "outputs": [
    {
     "name": "stdout",
     "output_type": "stream",
     "text": [
      "[[[ 1  2]\n",
      "  [ 3  4]\n",
      "  [ 5  6]]\n",
      "\n",
      " [[ 7  8]\n",
      "  [ 9 10]\n",
      "  [11 12]]]\n"
     ]
    }
   ],
   "source": [
    "#Convert the following 1-D array with 12 elements into a 3-D array.\n",
    "#The outermost dimension will have 2 arrays that contains 3 arrays, each with 2 elements\n",
    "import numpy as np\n",
    "arr = np.array([1, 2, 3, 4, 5, 6, 7, 8, 9, 10, 11, 12])\n",
    "newarr = arr.reshape(2, 3, 2)\n",
    "print(newarr)"
   ]
  },
  {
   "cell_type": "markdown",
   "id": "9740134f-ed3a-4efa-b996-87ee7d1f1aa2",
   "metadata": {},
   "source": [
    "Returns Copy or View"
   ]
  },
  {
   "cell_type": "code",
   "execution_count": 4,
   "id": "27103670-6ae3-45af-a638-9d649ba948c6",
   "metadata": {},
   "outputs": [
    {
     "name": "stdout",
     "output_type": "stream",
     "text": [
      "[1 2 3 4 5 6 7 8]\n"
     ]
    }
   ],
   "source": [
    "#Check if the returned array is a copy or a view\n",
    "#The example above returns the original array, so it is a view\n",
    "import numpy as np\n",
    "arr = np.array([1, 2, 3, 4, 5, 6, 7, 8])\n",
    "print(arr.reshape(2, 4).base)"
   ]
  },
  {
   "cell_type": "markdown",
   "id": "821d52bb-7fd4-4d1e-a405-1c37f6f38966",
   "metadata": {},
   "source": [
    "Unknown Dimension"
   ]
  },
  {
   "cell_type": "code",
   "execution_count": 5,
   "id": "39a7dd95-91c1-4378-9368-e14ebdf4af73",
   "metadata": {},
   "outputs": [
    {
     "name": "stdout",
     "output_type": "stream",
     "text": [
      "[[[1 2]\n",
      "  [3 4]]\n",
      "\n",
      " [[5 6]\n",
      "  [7 8]]]\n"
     ]
    }
   ],
   "source": [
    "#Convert 1D array with 8 elements to 3D array with 2x2 elements\n",
    "import numpy as np\n",
    "arr = np.array([1, 2, 3, 4, 5, 6, 7, 8])\n",
    "newarr = arr.reshape(2, 2, -1)\n",
    "print(newarr)"
   ]
  },
  {
   "cell_type": "code",
   "execution_count": null,
   "id": "8685d3a3-598c-44d5-aa56-8e6d6f791b1c",
   "metadata": {},
   "outputs": [],
   "source": []
  },
  {
   "cell_type": "markdown",
   "id": "39c13e4d-3fe4-4eac-9f2c-3ca2792bf9ff",
   "metadata": {},
   "source": [
    "Flattening the arrays\n",
    "\n",
    "*Flattening array means converting a multidimensional array into a 1D array.\n",
    "\n",
    "*We can use reshape(-1) to do this."
   ]
  },
  {
   "cell_type": "code",
   "execution_count": 6,
   "id": "0370b4ca-1798-4c79-b471-c4a57b71b093",
   "metadata": {},
   "outputs": [
    {
     "name": "stdout",
     "output_type": "stream",
     "text": [
      "[1 2 3 4 5 6]\n"
     ]
    }
   ],
   "source": [
    "#Convert the array into a 1D array\n",
    "import numpy as np\n",
    "arr = np.array([[1, 2, 3], [4, 5, 6]])\n",
    "newarr = arr.reshape(-1)\n",
    "print(newarr)"
   ]
  },
  {
   "cell_type": "code",
   "execution_count": null,
   "id": "37380f55-7ca2-47f7-b033-d9e07432d610",
   "metadata": {},
   "outputs": [],
   "source": []
  }
 ],
 "metadata": {
  "kernelspec": {
   "display_name": "Python 3 (ipykernel)",
   "language": "python",
   "name": "python3"
  },
  "language_info": {
   "codemirror_mode": {
    "name": "ipython",
    "version": 3
   },
   "file_extension": ".py",
   "mimetype": "text/x-python",
   "name": "python",
   "nbconvert_exporter": "python",
   "pygments_lexer": "ipython3",
   "version": "3.13.3"
  },
  "widgets": {
   "application/vnd.jupyter.widget-state+json": {
    "state": {},
    "version_major": 2,
    "version_minor": 0
   }
  }
 },
 "nbformat": 4,
 "nbformat_minor": 5
}
