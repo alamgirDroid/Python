{
 "cells": [
  {
   "cell_type": "markdown",
   "id": "7b958c52-db98-4e00-8767-fb85d54bfa28",
   "metadata": {},
   "source": [
    "NumPy stands for Numerical Python"
   ]
  },
  {
   "cell_type": "code",
   "execution_count": 3,
   "id": "e034e21e-20e7-498b-8ccf-e177dac18f73",
   "metadata": {},
   "outputs": [
    {
     "name": "stdout",
     "output_type": "stream",
     "text": [
      "Requirement already satisfied: numpy in c:\\python313\\lib\\site-packages (2.2.4)\n"
     ]
    }
   ],
   "source": [
    "#install Numpy\n",
    "!pip install numpy"
   ]
  },
  {
   "cell_type": "code",
   "execution_count": 4,
   "id": "c422f0f7-4a63-49be-868f-fe01f148bb16",
   "metadata": {},
   "outputs": [],
   "source": [
    "#import numpy\n",
    "import numpy"
   ]
  },
  {
   "cell_type": "code",
   "execution_count": 6,
   "id": "b80f9d08-ed55-4ca0-b8c0-6a38d8f70dad",
   "metadata": {},
   "outputs": [
    {
     "name": "stdout",
     "output_type": "stream",
     "text": [
      "[1 2 3 4]\n"
     ]
    }
   ],
   "source": [
    "#Now NumPy is imported and ready to use.\n",
    "import numpy\n",
    "\n",
    "arr = numpy.array([1, 2, 3, 4])\n",
    "print(arr)"
   ]
  },
  {
   "cell_type": "code",
   "execution_count": 5,
   "id": "80f9dc7c-bb4a-409a-8d36-dfb712fe9c82",
   "metadata": {},
   "outputs": [],
   "source": [
    "#NumPy is usually imported under the np alias\n",
    "import numpy as np"
   ]
  },
  {
   "cell_type": "code",
   "execution_count": 7,
   "id": "045aa40a-c1ef-4315-9661-710476bf457c",
   "metadata": {},
   "outputs": [
    {
     "name": "stdout",
     "output_type": "stream",
     "text": [
      "[1 2 3 4 5]\n"
     ]
    }
   ],
   "source": [
    "import numpy as np\n",
    "arr = np.array([1, 2, 3, 4, 5])\n",
    "print(arr)"
   ]
  },
  {
   "cell_type": "code",
   "execution_count": 9,
   "id": "b6b33c64-bfa2-4b53-918c-b14c375786f6",
   "metadata": {},
   "outputs": [
    {
     "name": "stdout",
     "output_type": "stream",
     "text": [
      "2.2.4\n"
     ]
    }
   ],
   "source": [
    "#Checking NumPy Version\n",
    "import numpy as np\n",
    "print(np.__version__)"
   ]
  },
  {
   "cell_type": "code",
   "execution_count": null,
   "id": "a36b7503-af12-49cd-82c2-611bbb328d36",
   "metadata": {},
   "outputs": [],
   "source": []
  }
 ],
 "metadata": {
  "kernelspec": {
   "display_name": "Python 3 (ipykernel)",
   "language": "python",
   "name": "python3"
  },
  "language_info": {
   "codemirror_mode": {
    "name": "ipython",
    "version": 3
   },
   "file_extension": ".py",
   "mimetype": "text/x-python",
   "name": "python",
   "nbconvert_exporter": "python",
   "pygments_lexer": "ipython3",
   "version": "3.13.3"
  },
  "widgets": {
   "application/vnd.jupyter.widget-state+json": {
    "state": {},
    "version_major": 2,
    "version_minor": 0
   }
  }
 },
 "nbformat": 4,
 "nbformat_minor": 5
}
