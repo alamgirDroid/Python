{
 "cells": [
  {
   "cell_type": "markdown",
   "id": "e6e7ab85-6599-4aa5-95bd-63ba7ffde0e9",
   "metadata": {},
   "source": [
    "Access Array Elements\n",
    "\n",
    "*Array indexing is the same as accessing an array element.\n",
    "\n",
    "*You can access an array element by referring to its index number.\n",
    "\n",
    "*The indexes in NumPy arrays start with 0, meaning that the first element has index 0, and the second has index 1 etc."
   ]
  },
  {
   "cell_type": "code",
   "execution_count": 2,
   "id": "a7d52a53-c4a6-4daa-a9c4-ab5578563c4e",
   "metadata": {},
   "outputs": [
    {
     "name": "stdout",
     "output_type": "stream",
     "text": [
      "1\n"
     ]
    }
   ],
   "source": [
    "#Get the first element from the following array\n",
    "import numpy as np\n",
    "arr = np.array([1, 2, 3, 4])\n",
    "print(arr[0])"
   ]
  },
  {
   "cell_type": "code",
   "execution_count": 3,
   "id": "a7ff5547-c189-47ea-aa15-5749429275c2",
   "metadata": {},
   "outputs": [
    {
     "name": "stdout",
     "output_type": "stream",
     "text": [
      "7\n"
     ]
    }
   ],
   "source": [
    "#Get third and fourth elements from the following array and add them\n",
    "import numpy as np\n",
    "arr = np.array([1, 2, 3, 4])\n",
    "print(arr[2] + arr[3])"
   ]
  },
  {
   "cell_type": "markdown",
   "id": "25a4a613-7bf4-496e-bbac-cbdb4485c00f",
   "metadata": {},
   "source": [
    "Access 2-D Arrays"
   ]
  },
  {
   "cell_type": "code",
   "execution_count": 5,
   "id": "547b7a18-133b-49fb-818c-fb94b557a06b",
   "metadata": {},
   "outputs": [
    {
     "name": "stdout",
     "output_type": "stream",
     "text": [
      "2nd element on 1st row:  2\n"
     ]
    }
   ],
   "source": [
    "#Access the element on the first row, second column\n",
    "import numpy as np\n",
    "arr = np.array([[1,2,3,4,5], [6,7,8,9,10]])\n",
    "print('2nd element on 1st row: ', arr[0, 1])"
   ]
  },
  {
   "cell_type": "code",
   "execution_count": 6,
   "id": "17fb649d-4c35-4eeb-b7d0-ac74f792d82f",
   "metadata": {},
   "outputs": [
    {
     "name": "stdout",
     "output_type": "stream",
     "text": [
      "5th element on 2nd row: 10\n"
     ]
    }
   ],
   "source": [
    "#Access the element on the 2nd row, 5th column\n",
    "import numpy as np\n",
    "arr = np.array([[1,2,3,4,5], [6,7,8,9,10]])\n",
    "print('5th element on 2nd row:', arr[1, 4])"
   ]
  },
  {
   "cell_type": "markdown",
   "id": "1c473a09-4cd3-47b3-a754-635fc89952ba",
   "metadata": {},
   "source": [
    "Access 3-D Arrays"
   ]
  },
  {
   "cell_type": "code",
   "execution_count": 7,
   "id": "7c79dde5-143d-433b-a585-03f5455c894a",
   "metadata": {},
   "outputs": [
    {
     "name": "stdout",
     "output_type": "stream",
     "text": [
      "6\n"
     ]
    }
   ],
   "source": [
    "#Access the third element of the second array of the first array\n",
    "import numpy as np\n",
    "arr = np.array([[[1,2,3],[4,5,6]], [[1,2,3],[4,5,6]]])\n",
    "print(arr[0, 1, 2])"
   ]
  },
  {
   "cell_type": "code",
   "execution_count": null,
   "id": "78bbdd0b-8094-48c0-949b-9b1e07e1970d",
   "metadata": {},
   "outputs": [],
   "source": []
  },
  {
   "cell_type": "markdown",
   "id": "a875e740-b915-4bdd-8c12-e0a3b4095ca4",
   "metadata": {},
   "source": [
    "Negative Indexing"
   ]
  },
  {
   "cell_type": "code",
   "execution_count": 8,
   "id": "430c746f-09e0-4f98-b12d-863ee177c868",
   "metadata": {},
   "outputs": [
    {
     "name": "stdout",
     "output_type": "stream",
     "text": [
      "Last element from 2nd dim:  10\n"
     ]
    }
   ],
   "source": [
    "#Print the last element from the 2nd dim\n",
    "import numpy as np\n",
    "arr = np.array([[1,2,3,4,5], [6,7,8,9,10]])\n",
    "print('Last element from 2nd dim: ', arr[1, -1])"
   ]
  },
  {
   "cell_type": "code",
   "execution_count": null,
   "id": "a61d6ce9-9d2a-45d7-8ae5-2b03a8ee1f99",
   "metadata": {},
   "outputs": [],
   "source": []
  }
 ],
 "metadata": {
  "kernelspec": {
   "display_name": "Python 3 (ipykernel)",
   "language": "python",
   "name": "python3"
  },
  "language_info": {
   "codemirror_mode": {
    "name": "ipython",
    "version": 3
   },
   "file_extension": ".py",
   "mimetype": "text/x-python",
   "name": "python",
   "nbconvert_exporter": "python",
   "pygments_lexer": "ipython3",
   "version": "3.13.3"
  },
  "widgets": {
   "application/vnd.jupyter.widget-state+json": {
    "state": {},
    "version_major": 2,
    "version_minor": 0
   }
  }
 },
 "nbformat": 4,
 "nbformat_minor": 5
}
